{
  "nbformat": 4,
  "nbformat_minor": 0,
  "metadata": {
    "colab": {
      "name": "머신러닝을 이용한 알고리즘 트레이딩 시스템 개발_이대복 CH.5.6~5.7",
      "provenance": [],
      "collapsed_sections": [],
      "include_colab_link": true
    },
    "kernelspec": {
      "name": "python3",
      "display_name": "Python 3"
    }
  },
  "cells": [
    {
      "cell_type": "markdown",
      "metadata": {
        "id": "view-in-github",
        "colab_type": "text"
      },
      "source": [
        "<a href=\"https://colab.research.google.com/github/bigblesslee/kagglewithrhadoop/blob/branch1/%EB%A8%B8%EC%8B%A0%EB%9F%AC%EB%8B%9D%EC%9D%84_%EC%9D%B4%EC%9A%A9%ED%95%9C_%EC%95%8C%EA%B3%A0%EB%A6%AC%EC%A6%98_%ED%8A%B8%EB%A0%88%EC%9D%B4%EB%94%A9_%EC%8B%9C%EC%8A%A4%ED%85%9C_%EA%B0%9C%EB%B0%9C_%EC%9D%B4%EB%8C%80%EB%B3%B5_CH_5_6~5_7.ipynb\" target=\"_parent\"><img src=\"https://colab.research.google.com/assets/colab-badge.svg\" alt=\"Open In Colab\"/></a>"
      ]
    },
    {
      "cell_type": "code",
      "metadata": {
        "id": "6W0_7NZuSnwg",
        "colab_type": "code",
        "colab": {}
      },
      "source": [
        "# 기본 모듈 임포트\n",
        "import os\n",
        "import sys\n",
        "import datetime\n",
        "import pandas as pd\n",
        "import numpy as np\n",
        "import matplotlib.pyplot as plt\n",
        "import matplotlib.dates as mdates\n",
        "\n",
        "# 모델링 관련 임포트\n",
        "import statsmodels.tsa.stattools as ts\n",
        "from sklearn.svm import SVC\n",
        "from sklearn.svm import LinearSVC\n",
        "from sklearn.ensemble import RandomForestClassifier\n",
        "from sklearn.linear_model import LogisticRegression\n",
        "\n",
        "from sklearn.metrics import confusion_matrix"
      ],
      "execution_count": 0,
      "outputs": []
    },
    {
      "cell_type": "markdown",
      "metadata": {
        "id": "mTejexaLWPk0",
        "colab_type": "text"
      },
      "source": [
        "## 필요데이터 준비하기\n"
      ]
    },
    {
      "cell_type": "code",
      "metadata": {
        "id": "0kbQmSv6TD2h",
        "colab_type": "code",
        "outputId": "a9646adf-4f4d-46a9-b5fa-058639f03b5f",
        "colab": {
          "base_uri": "https://localhost:8080/",
          "height": 238
        }
      },
      "source": [
        "# finance-datareader 설치\n",
        "pip install -U finance-datareader"
      ],
      "execution_count": 109,
      "outputs": [
        {
          "output_type": "stream",
          "text": [
            "Requirement already up-to-date: finance-datareader in /usr/local/lib/python3.6/dist-packages (0.8.0)\n",
            "Requirement already satisfied, skipping upgrade: lxml in /usr/local/lib/python3.6/dist-packages (from finance-datareader) (4.2.6)\n",
            "Requirement already satisfied, skipping upgrade: requests>=2.3.0 in /usr/local/lib/python3.6/dist-packages (from finance-datareader) (2.21.0)\n",
            "Requirement already satisfied, skipping upgrade: requests-file in /usr/local/lib/python3.6/dist-packages (from finance-datareader) (1.4.3)\n",
            "Requirement already satisfied, skipping upgrade: pandas>=0.19.2 in /usr/local/lib/python3.6/dist-packages (from finance-datareader) (0.24.2)\n",
            "Requirement already satisfied, skipping upgrade: chardet<3.1.0,>=3.0.2 in /usr/local/lib/python3.6/dist-packages (from requests>=2.3.0->finance-datareader) (3.0.4)\n",
            "Requirement already satisfied, skipping upgrade: urllib3<1.25,>=1.21.1 in /usr/local/lib/python3.6/dist-packages (from requests>=2.3.0->finance-datareader) (1.24.3)\n",
            "Requirement already satisfied, skipping upgrade: certifi>=2017.4.17 in /usr/local/lib/python3.6/dist-packages (from requests>=2.3.0->finance-datareader) (2019.6.16)\n",
            "Requirement already satisfied, skipping upgrade: idna<2.9,>=2.5 in /usr/local/lib/python3.6/dist-packages (from requests>=2.3.0->finance-datareader) (2.8)\n",
            "Requirement already satisfied, skipping upgrade: six in /usr/local/lib/python3.6/dist-packages (from requests-file->finance-datareader) (1.12.0)\n",
            "Requirement already satisfied, skipping upgrade: pytz>=2011k in /usr/local/lib/python3.6/dist-packages (from pandas>=0.19.2->finance-datareader) (2018.9)\n",
            "Requirement already satisfied, skipping upgrade: numpy>=1.12.0 in /usr/local/lib/python3.6/dist-packages (from pandas>=0.19.2->finance-datareader) (1.16.5)\n",
            "Requirement already satisfied, skipping upgrade: python-dateutil>=2.5.0 in /usr/local/lib/python3.6/dist-packages (from pandas>=0.19.2->finance-datareader) (2.5.3)\n"
          ],
          "name": "stdout"
        }
      ]
    },
    {
      "cell_type": "code",
      "metadata": {
        "id": "raffrbBsUTra",
        "colab_type": "code",
        "colab": {}
      },
      "source": [
        "import FinanceDataReader as fdr"
      ],
      "execution_count": 0,
      "outputs": []
    },
    {
      "cell_type": "code",
      "metadata": {
        "id": "3VN_Wxs7tb15",
        "colab_type": "code",
        "colab": {}
      },
      "source": [
        "stk_df = fdr.StockListing('KRX')"
      ],
      "execution_count": 0,
      "outputs": []
    },
    {
      "cell_type": "code",
      "metadata": {
        "id": "ioRBnnzjvLzI",
        "colab_type": "code",
        "outputId": "8151d327-ce16-41e0-dfd0-2bc00fa63980",
        "colab": {
          "base_uri": "https://localhost:8080/",
          "height": 204
        }
      },
      "source": [
        "stk_df.head()"
      ],
      "execution_count": 112,
      "outputs": [
        {
          "output_type": "execute_result",
          "data": {
            "text/html": [
              "<div>\n",
              "<style scoped>\n",
              "    .dataframe tbody tr th:only-of-type {\n",
              "        vertical-align: middle;\n",
              "    }\n",
              "\n",
              "    .dataframe tbody tr th {\n",
              "        vertical-align: top;\n",
              "    }\n",
              "\n",
              "    .dataframe thead th {\n",
              "        text-align: right;\n",
              "    }\n",
              "</style>\n",
              "<table border=\"1\" class=\"dataframe\">\n",
              "  <thead>\n",
              "    <tr style=\"text-align: right;\">\n",
              "      <th></th>\n",
              "      <th>Symbol</th>\n",
              "      <th>Name</th>\n",
              "      <th>Sector</th>\n",
              "      <th>Industry</th>\n",
              "    </tr>\n",
              "  </thead>\n",
              "  <tbody>\n",
              "    <tr>\n",
              "      <th>0</th>\n",
              "      <td>155660</td>\n",
              "      <td>DSR</td>\n",
              "      <td>1차 비철금속 제조업</td>\n",
              "      <td>합섬섬유로프</td>\n",
              "    </tr>\n",
              "    <tr>\n",
              "      <th>1</th>\n",
              "      <td>001250</td>\n",
              "      <td>GS글로벌</td>\n",
              "      <td>상품 종합 도매업</td>\n",
              "      <td>수출입업(시멘트,철강금속,전기전자,섬유,기계화학),상품중개,광업,채석업/하수처리 서...</td>\n",
              "    </tr>\n",
              "    <tr>\n",
              "      <th>2</th>\n",
              "      <td>082740</td>\n",
              "      <td>HSD엔진</td>\n",
              "      <td>일반 목적용 기계 제조업</td>\n",
              "      <td>대형선박용엔진,내연발전엔진</td>\n",
              "    </tr>\n",
              "    <tr>\n",
              "      <th>3</th>\n",
              "      <td>001390</td>\n",
              "      <td>KG케미칼</td>\n",
              "      <td>기초 화학물질 제조업</td>\n",
              "      <td>콘크리트혼화제, 비료, 친환경농자재, 수처리제</td>\n",
              "    </tr>\n",
              "    <tr>\n",
              "      <th>4</th>\n",
              "      <td>011070</td>\n",
              "      <td>LG이노텍</td>\n",
              "      <td>전자부품 제조업</td>\n",
              "      <td>기타 전자부품 제조업</td>\n",
              "    </tr>\n",
              "  </tbody>\n",
              "</table>\n",
              "</div>"
            ],
            "text/plain": [
              "   Symbol  ...                                           Industry\n",
              "0  155660  ...                                             합섬섬유로프\n",
              "1  001250  ...  수출입업(시멘트,철강금속,전기전자,섬유,기계화학),상품중개,광업,채석업/하수처리 서...\n",
              "2  082740  ...                                     대형선박용엔진,내연발전엔진\n",
              "3  001390  ...                          콘크리트혼화제, 비료, 친환경농자재, 수처리제\n",
              "4  011070  ...                                        기타 전자부품 제조업\n",
              "\n",
              "[5 rows x 4 columns]"
            ]
          },
          "metadata": {
            "tags": []
          },
          "execution_count": 112
        }
      ]
    },
    {
      "cell_type": "code",
      "metadata": {
        "id": "fI6wb44VQnaC",
        "colab_type": "code",
        "colab": {}
      },
      "source": [
        "stk_tickers = stk_df['Symbol']"
      ],
      "execution_count": 0,
      "outputs": []
    },
    {
      "cell_type": "code",
      "metadata": {
        "id": "oAolJLzyuC4i",
        "colab_type": "code",
        "outputId": "c2bb3582-4800-4417-8bf0-4ec23c1abfec",
        "colab": {
          "base_uri": "https://localhost:8080/",
          "height": 357
        }
      },
      "source": [
        "def get_prc_db(ticker, strt_dt = '2018'):\n",
        "  tmp_df = fdr.DataReader(ticker, '2018')\n",
        "  tmp_df['ITM_NO'] = ticker\n",
        "  return tmp_df\n",
        "\n",
        "prc_df = pd.DataFrame()\n",
        "for ticker_nm in stk_tickers[:20]:\n",
        "  try:\n",
        "    prc_df = prc_df.append(get_prc_db(ticker_nm))\n",
        "    print(ticker_nm + '_불러오기_완료')\n",
        "  except:\n",
        "    print(ticker_nm + '_불러오기_실패')"
      ],
      "execution_count": 114,
      "outputs": [
        {
          "output_type": "stream",
          "text": [
            "155660_불러오기_완료\n",
            "001250_불러오기_완료\n",
            "082740_불러오기_완료\n",
            "001390_불러오기_완료\n",
            "011070_불러오기_완료\n",
            "010060_불러오기_완료\n",
            "001740_불러오기_완료\n",
            "096770_불러오기_완료\n",
            "011810_불러오기_완료\n",
            "024070_불러오기_완료\n",
            "011420_불러오기_완료\n",
            "267290_불러오기_완료\n",
            "012320_불러오기_완료\n",
            "010130_불러오기_완료\n",
            "002240_불러오기_완료\n",
            "014530_불러오기_완료\n",
            "013700_불러오기_완료\n",
            "003920_불러오기_완료\n",
            "090350_불러오기_완료\n",
            "014160_불러오기_완료\n"
          ],
          "name": "stdout"
        }
      ]
    },
    {
      "cell_type": "code",
      "metadata": {
        "id": "RaqZNP9aS3GS",
        "colab_type": "code",
        "outputId": "90d8a8ec-1efd-4793-92c7-638052f37b8d",
        "colab": {
          "base_uri": "https://localhost:8080/",
          "height": 235
        }
      },
      "source": [
        "prc_df.head()"
      ],
      "execution_count": 115,
      "outputs": [
        {
          "output_type": "execute_result",
          "data": {
            "text/html": [
              "<div>\n",
              "<style scoped>\n",
              "    .dataframe tbody tr th:only-of-type {\n",
              "        vertical-align: middle;\n",
              "    }\n",
              "\n",
              "    .dataframe tbody tr th {\n",
              "        vertical-align: top;\n",
              "    }\n",
              "\n",
              "    .dataframe thead th {\n",
              "        text-align: right;\n",
              "    }\n",
              "</style>\n",
              "<table border=\"1\" class=\"dataframe\">\n",
              "  <thead>\n",
              "    <tr style=\"text-align: right;\">\n",
              "      <th></th>\n",
              "      <th>Open</th>\n",
              "      <th>High</th>\n",
              "      <th>Low</th>\n",
              "      <th>Close</th>\n",
              "      <th>Volume</th>\n",
              "      <th>Change</th>\n",
              "      <th>ITM_NO</th>\n",
              "    </tr>\n",
              "    <tr>\n",
              "      <th>Date</th>\n",
              "      <th></th>\n",
              "      <th></th>\n",
              "      <th></th>\n",
              "      <th></th>\n",
              "      <th></th>\n",
              "      <th></th>\n",
              "      <th></th>\n",
              "    </tr>\n",
              "  </thead>\n",
              "  <tbody>\n",
              "    <tr>\n",
              "      <th>2018-01-02</th>\n",
              "      <td>5220</td>\n",
              "      <td>5260</td>\n",
              "      <td>5140</td>\n",
              "      <td>5240</td>\n",
              "      <td>43276</td>\n",
              "      <td>0.013540</td>\n",
              "      <td>155660</td>\n",
              "    </tr>\n",
              "    <tr>\n",
              "      <th>2018-01-03</th>\n",
              "      <td>5270</td>\n",
              "      <td>5380</td>\n",
              "      <td>5220</td>\n",
              "      <td>5350</td>\n",
              "      <td>105827</td>\n",
              "      <td>0.020992</td>\n",
              "      <td>155660</td>\n",
              "    </tr>\n",
              "    <tr>\n",
              "      <th>2018-01-04</th>\n",
              "      <td>5400</td>\n",
              "      <td>5500</td>\n",
              "      <td>5290</td>\n",
              "      <td>5360</td>\n",
              "      <td>133343</td>\n",
              "      <td>0.001869</td>\n",
              "      <td>155660</td>\n",
              "    </tr>\n",
              "    <tr>\n",
              "      <th>2018-01-05</th>\n",
              "      <td>5380</td>\n",
              "      <td>5690</td>\n",
              "      <td>5330</td>\n",
              "      <td>5490</td>\n",
              "      <td>263076</td>\n",
              "      <td>0.024254</td>\n",
              "      <td>155660</td>\n",
              "    </tr>\n",
              "    <tr>\n",
              "      <th>2018-01-08</th>\n",
              "      <td>5610</td>\n",
              "      <td>5740</td>\n",
              "      <td>5600</td>\n",
              "      <td>5630</td>\n",
              "      <td>309361</td>\n",
              "      <td>0.025501</td>\n",
              "      <td>155660</td>\n",
              "    </tr>\n",
              "  </tbody>\n",
              "</table>\n",
              "</div>"
            ],
            "text/plain": [
              "            Open  High   Low  Close  Volume    Change  ITM_NO\n",
              "Date                                                         \n",
              "2018-01-02  5220  5260  5140   5240   43276  0.013540  155660\n",
              "2018-01-03  5270  5380  5220   5350  105827  0.020992  155660\n",
              "2018-01-04  5400  5500  5290   5360  133343  0.001869  155660\n",
              "2018-01-05  5380  5690  5330   5490  263076  0.024254  155660\n",
              "2018-01-08  5610  5740  5600   5630  309361  0.025501  155660"
            ]
          },
          "metadata": {
            "tags": []
          },
          "execution_count": 115
        }
      ]
    },
    {
      "cell_type": "markdown",
      "metadata": {
        "id": "8H-90i8LD3FU",
        "colab_type": "text"
      },
      "source": [
        "### 평균회귀 테스트 (ADF 테스트 계속)"
      ]
    },
    {
      "cell_type": "code",
      "metadata": {
        "id": "ZrscJ5UlD08Z",
        "colab_type": "code",
        "outputId": "f14f6c79-2922-46ad-e674-b8033623d277",
        "colab": {
          "base_uri": "https://localhost:8080/",
          "height": 34
        }
      },
      "source": [
        "import statsmodels.tsa.stattools as ts\n",
        "\n",
        "adf_result = ts.adfuller(prc_df[prc_df['ITM_NO']== stk_tickers[0]]['Close'])\n",
        "print(adf_result)"
      ],
      "execution_count": 116,
      "outputs": [
        {
          "output_type": "stream",
          "text": [
            "(-2.1335714429658537, 0.2312313200668526, 1, 418, {'1%': -3.4460914174990296, '5%': -2.868479374038333, '10%': -2.570466459559076}, 5255.337661782507)\n"
          ],
          "name": "stdout"
        }
      ]
    },
    {
      "cell_type": "markdown",
      "metadata": {
        "id": "z0tL8vqiEXPB",
        "colab_type": "text"
      },
      "source": [
        "\n",
        "\n",
        "---\n",
        "\n",
        "\n",
        "\n",
        "> * 첫 번째 : 검정 통계량(Test Statistic)\n",
        "* 두 번째 : p-value\n",
        "* 네번째 : 데이터 수\n",
        "* 다섯번째 : 가설검정을 위한 1%, 5%, 10% 기각 값(Critical Value)\n",
        "  * r=0이라는 가설검정을 기각하려면 검정 통계량 값이 1%, 5%, 10% 기각값 중 어느 하나보다도 작아야 함.\n",
        "  \n",
        "\n",
        "---\n",
        "\n",
        "\n",
        "  \n",
        "* 삼성전자 주가의 검정 통계량은 -2.62로 기각값 10%인 -2.57보다 크기 때문에 유의수준 10%에서 귀무가설을 기각할 수 있음\n",
        "  * 즉, 삼성전자에 평균회귀 모형을 적용해 볼 수 있음\n",
        "\n",
        "\n",
        "\n",
        "---\n",
        "\n"
      ]
    },
    {
      "cell_type": "code",
      "metadata": {
        "id": "Z0-8-SRJqn35",
        "colab_type": "code",
        "outputId": "4820e44d-d204-4911-f051-4ffa763231f3",
        "colab": {
          "base_uri": "https://localhost:8080/",
          "height": 357
        }
      },
      "source": [
        "pv_lst = []\n",
        "for ticker in stk_tickers[:20]:\n",
        "  adf_result = ts.adfuller(prc_df[prc_df['ITM_NO']== ticker]['Close'])\n",
        "  pv_lst.append(adf_result[1])\n",
        "pv_lst "
      ],
      "execution_count": 117,
      "outputs": [
        {
          "output_type": "execute_result",
          "data": {
            "text/plain": [
              "[0.2312313200668526,\n",
              " 0.48811609234573944,\n",
              " 0.2675332586297395,\n",
              " 0.8447532182170869,\n",
              " 0.353325766085713,\n",
              " 0.5457830712839632,\n",
              " 0.10015584134728656,\n",
              " 0.24307839424538685,\n",
              " 0.7835230797782198,\n",
              " 0.39110942272616295,\n",
              " 0.19993158678818052,\n",
              " 0.8777613601790354,\n",
              " 0.07464007457259954,\n",
              " 0.16145978526260396,\n",
              " 0.3876701238383937,\n",
              " 0.09144829047227687,\n",
              " 0.06307653858062057,\n",
              " 0.8950964580176435,\n",
              " 0.37732846416453386,\n",
              " 0.38618166237493773]"
            ]
          },
          "metadata": {
            "tags": []
          },
          "execution_count": 117
        }
      ]
    },
    {
      "cell_type": "markdown",
      "metadata": {
        "id": "3gYKV88Z_4x6",
        "colab_type": "text"
      },
      "source": [
        "### 허스트 지수\n",
        "\n",
        "\n",
        "\n",
        "---\n",
        "\n",
        "\n",
        "\n",
        "\n",
        "> * 허스트 지수의 핵심 아이디어는 분산을 확산 속도로 치환할 수 있고, 그 값을 GBM의 확산 속도와 비교하면, 랜덤워크인지 아니면 정상과정인지를 파악할 수 있다는 것임\n",
        "* 허스트 지수는 정상과정이 평균회귀나 추세 성향이 있는지를 알 수 있을 뿐만 아니라 경향의 정도도 알 수 있어 매우 유용한 지수임\n",
        "* 예를 들어, H값이 0에 가까울수록 평균회귀 성향이 강하고, 반대로 1에 가까울소록 추세 성향이 강하다고 판단할 수 있음\n",
        "\n",
        "\n",
        "\n",
        "\n"
      ]
    },
    {
      "cell_type": "code",
      "metadata": {
        "id": "VU_2dJtnEUVc",
        "colab_type": "code",
        "colab": {}
      },
      "source": [
        "def get_hurst_exponent(df):\n",
        "  lags = range(2, 100)\n",
        "  ts = np.log(df)\n",
        "\n",
        "  tau = [np.sqrt(np.std(np.subtract(ts[lag:], ts[:-lag]))) for lag in lags]\n",
        "  poly = np.polyfit(np.log(lags), np.log(tau), 1)\n",
        "\n",
        "  result = poly[0] * 2.0\n",
        "\n",
        "  return result"
      ],
      "execution_count": 0,
      "outputs": []
    },
    {
      "cell_type": "code",
      "metadata": {
        "id": "pjLcXz7oGNpp",
        "colab_type": "code",
        "outputId": "709e9e7a-5206-423f-d35b-5609da77ca32",
        "colab": {
          "base_uri": "https://localhost:8080/",
          "height": 357
        }
      },
      "source": [
        "hurst_lst = []\n",
        "for ticker in stk_tickers[:20]:\n",
        "  hurst_lst.append(get_hurst_exponent(prc_df[prc_df['ITM_NO']== ticker]['Close']))\n",
        "hurst_lst "
      ],
      "execution_count": 119,
      "outputs": [
        {
          "output_type": "execute_result",
          "data": {
            "text/plain": [
              "[0.3824179295832717,\n",
              " 0.31682868118001545,\n",
              " 0.4929600846983241,\n",
              " 0.4337518061652332,\n",
              " 0.49441721888141327,\n",
              " 0.33445816070171897,\n",
              " 0.5115917858646453,\n",
              " 0.23568890949222018,\n",
              " 0.5001027398269537,\n",
              " 0.3416834181905906,\n",
              " 0.38223924266461146,\n",
              " 0.46224218081606633,\n",
              " 0.4006126992847144,\n",
              " 0.4468953802690287,\n",
              " 0.4243533929380504,\n",
              " 0.32261778640887734,\n",
              " 0.45013412270888314,\n",
              " 0.28942010190711315,\n",
              " 0.4481814493031878,\n",
              " 0.3945511190168445]"
            ]
          },
          "metadata": {
            "tags": []
          },
          "execution_count": 119
        }
      ]
    },
    {
      "cell_type": "markdown",
      "metadata": {
        "id": "4ouq0D5DGzSp",
        "colab_type": "text"
      },
      "source": [
        "### 평균회귀의 Half-life\n",
        "\n",
        "\n",
        "\n",
        "* 주가 데이터 대부분이 평균회귀 모형 적용 가능 테스트에서 실패함\n",
        "* 상기 2가지 테스트 통과에 실패했더라도, 평균 회귀 모델을 적용할 수 있는지를 알 수 있는 Half-life 값을 소개함\n",
        "* Half-life는 값이 평균으로 회귀하는 데 걸리는 시간을 의미하는 것으로, 이 값을 이용해 평균회귀 모델을 적용할 수 있는 주가를 찾을 수 있음\n",
        "\n",
        "\n",
        "\n",
        "---\n",
        "\n",
        "\n",
        "\n",
        "\n",
        "> * Half-life의 값이 크고 작음은 알고리즘 트레이딩에 적용하는 전략에 따라 좋을 수도 나쁠 수도 있음\n",
        "* Half-life의 값이 크다는 것은 장기간 지속하는 경향이 있다는 것을 의미할 수 도 있고, 반대로 작다는 것은 그만큼 주식값의 변동이 잦다는 것으로 해석할 수도 있기 때문에 전략에 맞춰 판단해야 함\n",
        "\n",
        "\n",
        "\n",
        "---\n",
        "\n",
        "\n",
        "\n",
        "\n",
        "\n",
        "\n",
        "\n"
      ]
    },
    {
      "cell_type": "code",
      "metadata": {
        "id": "ofEfNjzdIPcQ",
        "colab_type": "code",
        "colab": {}
      },
      "source": [
        "def get_half_life(df):\n",
        "    price = pd.Series(df)\n",
        "    lagged_price = price.shift(1).fillna(method='bfill')\n",
        "    delta = price - lagged_price\n",
        "    beta = np.polyfit(lagged_price, delta, 1)[0]\n",
        "    half_life = (-1 * np.log(2) / beta)\n",
        "    \n",
        "    return half_life  "
      ],
      "execution_count": 0,
      "outputs": []
    },
    {
      "cell_type": "code",
      "metadata": {
        "id": "4dUlRjZenUjx",
        "colab_type": "code",
        "outputId": "14581720-5955-452c-a952-4f50adb374b0",
        "colab": {
          "base_uri": "https://localhost:8080/",
          "height": 357
        }
      },
      "source": [
        "half_life_lst = []\n",
        "for ticker in stk_tickers[:20]:\n",
        "  half_life_lst.append(get_half_life(prc_df[prc_df['ITM_NO']== ticker]['Close']))\n",
        "half_life_lst"
      ],
      "execution_count": 121,
      "outputs": [
        {
          "output_type": "execute_result",
          "data": {
            "text/plain": [
              "[27.88958646448812,\n",
              " 54.76119019918814,\n",
              " 35.25469805709054,\n",
              " 152.42725630514113,\n",
              " 46.233850568015576,\n",
              " 106.32987878871525,\n",
              " 33.11236739481462,\n",
              " 32.21552221342613,\n",
              " 217.51373770379624,\n",
              " 88.16417784215004,\n",
              " 24.997817936902674,\n",
              " 215.84326400932514,\n",
              " 44.21641152326024,\n",
              " 31.539236948723065,\n",
              " 49.85036825540656,\n",
              " 10.569900354538612,\n",
              " 16.95316713180104,\n",
              " 135.08760207406414,\n",
              " 64.88345273495081,\n",
              " 48.93314918900451]"
            ]
          },
          "metadata": {
            "tags": []
          },
          "execution_count": 121
        }
      ]
    },
    {
      "cell_type": "code",
      "metadata": {
        "id": "aIlrJuLsx2UR",
        "colab_type": "code",
        "outputId": "c689b466-6f64-4a64-a539-03cf4dcb3c13",
        "colab": {
          "base_uri": "https://localhost:8080/",
          "height": 700
        }
      },
      "source": [
        "scor_df = pd.DataFrame(data = {'adf':pv_lst,'hurst':hurst_lst,'half_life':half_life_lst}, index=stk_df['Name'][:20])\n",
        "scor_df"
      ],
      "execution_count": 122,
      "outputs": [
        {
          "output_type": "execute_result",
          "data": {
            "text/html": [
              "<div>\n",
              "<style scoped>\n",
              "    .dataframe tbody tr th:only-of-type {\n",
              "        vertical-align: middle;\n",
              "    }\n",
              "\n",
              "    .dataframe tbody tr th {\n",
              "        vertical-align: top;\n",
              "    }\n",
              "\n",
              "    .dataframe thead th {\n",
              "        text-align: right;\n",
              "    }\n",
              "</style>\n",
              "<table border=\"1\" class=\"dataframe\">\n",
              "  <thead>\n",
              "    <tr style=\"text-align: right;\">\n",
              "      <th></th>\n",
              "      <th>adf</th>\n",
              "      <th>hurst</th>\n",
              "      <th>half_life</th>\n",
              "    </tr>\n",
              "    <tr>\n",
              "      <th>Name</th>\n",
              "      <th></th>\n",
              "      <th></th>\n",
              "      <th></th>\n",
              "    </tr>\n",
              "  </thead>\n",
              "  <tbody>\n",
              "    <tr>\n",
              "      <th>DSR</th>\n",
              "      <td>0.231231</td>\n",
              "      <td>0.382418</td>\n",
              "      <td>27.889586</td>\n",
              "    </tr>\n",
              "    <tr>\n",
              "      <th>GS글로벌</th>\n",
              "      <td>0.488116</td>\n",
              "      <td>0.316829</td>\n",
              "      <td>54.761190</td>\n",
              "    </tr>\n",
              "    <tr>\n",
              "      <th>HSD엔진</th>\n",
              "      <td>0.267533</td>\n",
              "      <td>0.492960</td>\n",
              "      <td>35.254698</td>\n",
              "    </tr>\n",
              "    <tr>\n",
              "      <th>KG케미칼</th>\n",
              "      <td>0.844753</td>\n",
              "      <td>0.433752</td>\n",
              "      <td>152.427256</td>\n",
              "    </tr>\n",
              "    <tr>\n",
              "      <th>LG이노텍</th>\n",
              "      <td>0.353326</td>\n",
              "      <td>0.494417</td>\n",
              "      <td>46.233851</td>\n",
              "    </tr>\n",
              "    <tr>\n",
              "      <th>OCI</th>\n",
              "      <td>0.545783</td>\n",
              "      <td>0.334458</td>\n",
              "      <td>106.329879</td>\n",
              "    </tr>\n",
              "    <tr>\n",
              "      <th>SK네트웍스</th>\n",
              "      <td>0.100156</td>\n",
              "      <td>0.511592</td>\n",
              "      <td>33.112367</td>\n",
              "    </tr>\n",
              "    <tr>\n",
              "      <th>SK이노베이션</th>\n",
              "      <td>0.243078</td>\n",
              "      <td>0.235689</td>\n",
              "      <td>32.215522</td>\n",
              "    </tr>\n",
              "    <tr>\n",
              "      <th>STX</th>\n",
              "      <td>0.783523</td>\n",
              "      <td>0.500103</td>\n",
              "      <td>217.513738</td>\n",
              "    </tr>\n",
              "    <tr>\n",
              "      <th>WISCOM</th>\n",
              "      <td>0.391109</td>\n",
              "      <td>0.341683</td>\n",
              "      <td>88.164178</td>\n",
              "    </tr>\n",
              "    <tr>\n",
              "      <th>갤럭시아에스엠</th>\n",
              "      <td>0.199932</td>\n",
              "      <td>0.382239</td>\n",
              "      <td>24.997818</td>\n",
              "    </tr>\n",
              "    <tr>\n",
              "      <th>경동도시가스</th>\n",
              "      <td>0.877761</td>\n",
              "      <td>0.462242</td>\n",
              "      <td>215.843264</td>\n",
              "    </tr>\n",
              "    <tr>\n",
              "      <th>경동인베스트</th>\n",
              "      <td>0.074640</td>\n",
              "      <td>0.400613</td>\n",
              "      <td>44.216412</td>\n",
              "    </tr>\n",
              "    <tr>\n",
              "      <th>고려아연</th>\n",
              "      <td>0.161460</td>\n",
              "      <td>0.446895</td>\n",
              "      <td>31.539237</td>\n",
              "    </tr>\n",
              "    <tr>\n",
              "      <th>고려제강</th>\n",
              "      <td>0.387670</td>\n",
              "      <td>0.424353</td>\n",
              "      <td>49.850368</td>\n",
              "    </tr>\n",
              "    <tr>\n",
              "      <th>극동유화</th>\n",
              "      <td>0.091448</td>\n",
              "      <td>0.322618</td>\n",
              "      <td>10.569900</td>\n",
              "    </tr>\n",
              "    <tr>\n",
              "      <th>까뮤이앤씨</th>\n",
              "      <td>0.063077</td>\n",
              "      <td>0.450134</td>\n",
              "      <td>16.953167</td>\n",
              "    </tr>\n",
              "    <tr>\n",
              "      <th>남양유업</th>\n",
              "      <td>0.895096</td>\n",
              "      <td>0.289420</td>\n",
              "      <td>135.087602</td>\n",
              "    </tr>\n",
              "    <tr>\n",
              "      <th>노루페인트</th>\n",
              "      <td>0.377328</td>\n",
              "      <td>0.448181</td>\n",
              "      <td>64.883453</td>\n",
              "    </tr>\n",
              "    <tr>\n",
              "      <th>대영포장</th>\n",
              "      <td>0.386182</td>\n",
              "      <td>0.394551</td>\n",
              "      <td>48.933149</td>\n",
              "    </tr>\n",
              "  </tbody>\n",
              "</table>\n",
              "</div>"
            ],
            "text/plain": [
              "              adf     hurst   half_life\n",
              "Name                                   \n",
              "DSR      0.231231  0.382418   27.889586\n",
              "GS글로벌    0.488116  0.316829   54.761190\n",
              "HSD엔진    0.267533  0.492960   35.254698\n",
              "KG케미칼    0.844753  0.433752  152.427256\n",
              "LG이노텍    0.353326  0.494417   46.233851\n",
              "OCI      0.545783  0.334458  106.329879\n",
              "SK네트웍스   0.100156  0.511592   33.112367\n",
              "SK이노베이션  0.243078  0.235689   32.215522\n",
              "STX      0.783523  0.500103  217.513738\n",
              "WISCOM   0.391109  0.341683   88.164178\n",
              "갤럭시아에스엠  0.199932  0.382239   24.997818\n",
              "경동도시가스   0.877761  0.462242  215.843264\n",
              "경동인베스트   0.074640  0.400613   44.216412\n",
              "고려아연     0.161460  0.446895   31.539237\n",
              "고려제강     0.387670  0.424353   49.850368\n",
              "극동유화     0.091448  0.322618   10.569900\n",
              "까뮤이앤씨    0.063077  0.450134   16.953167\n",
              "남양유업     0.895096  0.289420  135.087602\n",
              "노루페인트    0.377328  0.448181   64.883453\n",
              "대영포장     0.386182  0.394551   48.933149"
            ]
          },
          "metadata": {
            "tags": []
          },
          "execution_count": 122
        }
      ]
    },
    {
      "cell_type": "code",
      "metadata": {
        "id": "knWL-Mh3y1d9",
        "colab_type": "code",
        "outputId": "9e0f81ef-fc54-4d8a-fb7a-844a93b2ab32",
        "colab": {
          "base_uri": "https://localhost:8080/",
          "height": 700
        }
      },
      "source": [
        "scor_df.rank()"
      ],
      "execution_count": 123,
      "outputs": [
        {
          "output_type": "execute_result",
          "data": {
            "text/html": [
              "<div>\n",
              "<style scoped>\n",
              "    .dataframe tbody tr th:only-of-type {\n",
              "        vertical-align: middle;\n",
              "    }\n",
              "\n",
              "    .dataframe tbody tr th {\n",
              "        vertical-align: top;\n",
              "    }\n",
              "\n",
              "    .dataframe thead th {\n",
              "        text-align: right;\n",
              "    }\n",
              "</style>\n",
              "<table border=\"1\" class=\"dataframe\">\n",
              "  <thead>\n",
              "    <tr style=\"text-align: right;\">\n",
              "      <th></th>\n",
              "      <th>adf</th>\n",
              "      <th>hurst</th>\n",
              "      <th>half_life</th>\n",
              "    </tr>\n",
              "    <tr>\n",
              "      <th>Name</th>\n",
              "      <th></th>\n",
              "      <th></th>\n",
              "      <th></th>\n",
              "    </tr>\n",
              "  </thead>\n",
              "  <tbody>\n",
              "    <tr>\n",
              "      <th>DSR</th>\n",
              "      <td>7.0</td>\n",
              "      <td>8.0</td>\n",
              "      <td>4.0</td>\n",
              "    </tr>\n",
              "    <tr>\n",
              "      <th>GS글로벌</th>\n",
              "      <td>15.0</td>\n",
              "      <td>3.0</td>\n",
              "      <td>13.0</td>\n",
              "    </tr>\n",
              "    <tr>\n",
              "      <th>HSD엔진</th>\n",
              "      <td>9.0</td>\n",
              "      <td>17.0</td>\n",
              "      <td>8.0</td>\n",
              "    </tr>\n",
              "    <tr>\n",
              "      <th>KG케미칼</th>\n",
              "      <td>18.0</td>\n",
              "      <td>12.0</td>\n",
              "      <td>18.0</td>\n",
              "    </tr>\n",
              "    <tr>\n",
              "      <th>LG이노텍</th>\n",
              "      <td>10.0</td>\n",
              "      <td>18.0</td>\n",
              "      <td>10.0</td>\n",
              "    </tr>\n",
              "    <tr>\n",
              "      <th>OCI</th>\n",
              "      <td>16.0</td>\n",
              "      <td>5.0</td>\n",
              "      <td>16.0</td>\n",
              "    </tr>\n",
              "    <tr>\n",
              "      <th>SK네트웍스</th>\n",
              "      <td>4.0</td>\n",
              "      <td>20.0</td>\n",
              "      <td>7.0</td>\n",
              "    </tr>\n",
              "    <tr>\n",
              "      <th>SK이노베이션</th>\n",
              "      <td>8.0</td>\n",
              "      <td>1.0</td>\n",
              "      <td>6.0</td>\n",
              "    </tr>\n",
              "    <tr>\n",
              "      <th>STX</th>\n",
              "      <td>17.0</td>\n",
              "      <td>19.0</td>\n",
              "      <td>20.0</td>\n",
              "    </tr>\n",
              "    <tr>\n",
              "      <th>WISCOM</th>\n",
              "      <td>14.0</td>\n",
              "      <td>6.0</td>\n",
              "      <td>15.0</td>\n",
              "    </tr>\n",
              "    <tr>\n",
              "      <th>갤럭시아에스엠</th>\n",
              "      <td>6.0</td>\n",
              "      <td>7.0</td>\n",
              "      <td>3.0</td>\n",
              "    </tr>\n",
              "    <tr>\n",
              "      <th>경동도시가스</th>\n",
              "      <td>19.0</td>\n",
              "      <td>16.0</td>\n",
              "      <td>19.0</td>\n",
              "    </tr>\n",
              "    <tr>\n",
              "      <th>경동인베스트</th>\n",
              "      <td>2.0</td>\n",
              "      <td>10.0</td>\n",
              "      <td>9.0</td>\n",
              "    </tr>\n",
              "    <tr>\n",
              "      <th>고려아연</th>\n",
              "      <td>5.0</td>\n",
              "      <td>13.0</td>\n",
              "      <td>5.0</td>\n",
              "    </tr>\n",
              "    <tr>\n",
              "      <th>고려제강</th>\n",
              "      <td>13.0</td>\n",
              "      <td>11.0</td>\n",
              "      <td>12.0</td>\n",
              "    </tr>\n",
              "    <tr>\n",
              "      <th>극동유화</th>\n",
              "      <td>3.0</td>\n",
              "      <td>4.0</td>\n",
              "      <td>1.0</td>\n",
              "    </tr>\n",
              "    <tr>\n",
              "      <th>까뮤이앤씨</th>\n",
              "      <td>1.0</td>\n",
              "      <td>15.0</td>\n",
              "      <td>2.0</td>\n",
              "    </tr>\n",
              "    <tr>\n",
              "      <th>남양유업</th>\n",
              "      <td>20.0</td>\n",
              "      <td>2.0</td>\n",
              "      <td>17.0</td>\n",
              "    </tr>\n",
              "    <tr>\n",
              "      <th>노루페인트</th>\n",
              "      <td>11.0</td>\n",
              "      <td>14.0</td>\n",
              "      <td>14.0</td>\n",
              "    </tr>\n",
              "    <tr>\n",
              "      <th>대영포장</th>\n",
              "      <td>12.0</td>\n",
              "      <td>9.0</td>\n",
              "      <td>11.0</td>\n",
              "    </tr>\n",
              "  </tbody>\n",
              "</table>\n",
              "</div>"
            ],
            "text/plain": [
              "          adf  hurst  half_life\n",
              "Name                           \n",
              "DSR       7.0    8.0        4.0\n",
              "GS글로벌    15.0    3.0       13.0\n",
              "HSD엔진     9.0   17.0        8.0\n",
              "KG케미칼    18.0   12.0       18.0\n",
              "LG이노텍    10.0   18.0       10.0\n",
              "OCI      16.0    5.0       16.0\n",
              "SK네트웍스    4.0   20.0        7.0\n",
              "SK이노베이션   8.0    1.0        6.0\n",
              "STX      17.0   19.0       20.0\n",
              "WISCOM   14.0    6.0       15.0\n",
              "갤럭시아에스엠   6.0    7.0        3.0\n",
              "경동도시가스   19.0   16.0       19.0\n",
              "경동인베스트    2.0   10.0        9.0\n",
              "고려아연      5.0   13.0        5.0\n",
              "고려제강     13.0   11.0       12.0\n",
              "극동유화      3.0    4.0        1.0\n",
              "까뮤이앤씨     1.0   15.0        2.0\n",
              "남양유업     20.0    2.0       17.0\n",
              "노루페인트    11.0   14.0       14.0\n",
              "대영포장     12.0    9.0       11.0"
            ]
          },
          "metadata": {
            "tags": []
          },
          "execution_count": 123
        }
      ]
    },
    {
      "cell_type": "code",
      "metadata": {
        "id": "D2PspEhZzCs-",
        "colab_type": "code",
        "outputId": "a0c4ad06-0c74-4be4-8efb-accdfc542cb2",
        "colab": {
          "base_uri": "https://localhost:8080/",
          "height": 204
        }
      },
      "source": [
        "scor_df.rank()[scor_df.rank()<10].dropna()"
      ],
      "execution_count": 124,
      "outputs": [
        {
          "output_type": "execute_result",
          "data": {
            "text/html": [
              "<div>\n",
              "<style scoped>\n",
              "    .dataframe tbody tr th:only-of-type {\n",
              "        vertical-align: middle;\n",
              "    }\n",
              "\n",
              "    .dataframe tbody tr th {\n",
              "        vertical-align: top;\n",
              "    }\n",
              "\n",
              "    .dataframe thead th {\n",
              "        text-align: right;\n",
              "    }\n",
              "</style>\n",
              "<table border=\"1\" class=\"dataframe\">\n",
              "  <thead>\n",
              "    <tr style=\"text-align: right;\">\n",
              "      <th></th>\n",
              "      <th>adf</th>\n",
              "      <th>hurst</th>\n",
              "      <th>half_life</th>\n",
              "    </tr>\n",
              "    <tr>\n",
              "      <th>Name</th>\n",
              "      <th></th>\n",
              "      <th></th>\n",
              "      <th></th>\n",
              "    </tr>\n",
              "  </thead>\n",
              "  <tbody>\n",
              "    <tr>\n",
              "      <th>DSR</th>\n",
              "      <td>7.0</td>\n",
              "      <td>8.0</td>\n",
              "      <td>4.0</td>\n",
              "    </tr>\n",
              "    <tr>\n",
              "      <th>SK이노베이션</th>\n",
              "      <td>8.0</td>\n",
              "      <td>1.0</td>\n",
              "      <td>6.0</td>\n",
              "    </tr>\n",
              "    <tr>\n",
              "      <th>갤럭시아에스엠</th>\n",
              "      <td>6.0</td>\n",
              "      <td>7.0</td>\n",
              "      <td>3.0</td>\n",
              "    </tr>\n",
              "    <tr>\n",
              "      <th>극동유화</th>\n",
              "      <td>3.0</td>\n",
              "      <td>4.0</td>\n",
              "      <td>1.0</td>\n",
              "    </tr>\n",
              "  </tbody>\n",
              "</table>\n",
              "</div>"
            ],
            "text/plain": [
              "         adf  hurst  half_life\n",
              "Name                          \n",
              "DSR      7.0    8.0        4.0\n",
              "SK이노베이션  8.0    1.0        6.0\n",
              "갤럭시아에스엠  6.0    7.0        3.0\n",
              "극동유화     3.0    4.0        1.0"
            ]
          },
          "metadata": {
            "tags": []
          },
          "execution_count": 124
        }
      ]
    },
    {
      "cell_type": "code",
      "metadata": {
        "id": "_fSIUp3FUwOX",
        "colab_type": "code",
        "colab": {
          "base_uri": "https://localhost:8080/",
          "height": 34
        },
        "outputId": "7029a9ae-298e-49eb-e8b9-0bd85ef4a062"
      },
      "source": [
        "scor_df.rank()[scor_df.rank()<10].dropna().index"
      ],
      "execution_count": 125,
      "outputs": [
        {
          "output_type": "execute_result",
          "data": {
            "text/plain": [
              "Index(['DSR', 'SK이노베이션', '갤럭시아에스엠', '극동유화'], dtype='object', name='Name')"
            ]
          },
          "metadata": {
            "tags": []
          },
          "execution_count": 125
        }
      ]
    },
    {
      "cell_type": "code",
      "metadata": {
        "id": "6sgxTqC_C3Kx",
        "colab_type": "code",
        "colab": {}
      },
      "source": [
        "def get_sig(df):\n",
        "  df.loc[:,'MA10'] = df['Close'].rolling(10).mean()\n",
        "  df.loc[:,'ROLLING_STD10'] = df['Close'].rolling(10).std()\n",
        "\n",
        "  df.loc[:,'DIFF'] = df.loc[:,'Close'] - df.loc[:,'MA10']\n",
        "\n",
        "  # signal \n",
        "  df.loc[:, 'SIG'] = 0\n",
        "  df.loc[df['DIFF'] > 0, 'SIG'] = -1\n",
        "  df.loc[df['DIFF'] < 0, 'SIG'] = 1\n",
        "  \n",
        "  return df"
      ],
      "execution_count": 0,
      "outputs": []
    },
    {
      "cell_type": "code",
      "metadata": {
        "id": "In-9hoUCC3pd",
        "colab_type": "code",
        "outputId": "6d6a597e-f709-4a30-ce22-1f78c2906281",
        "colab": {
          "base_uri": "https://localhost:8080/",
          "height": 221
        }
      },
      "source": [
        "sig_df = get_sig(prc_df[prc_df['ITM_NO']== stk_tickers[0]])"
      ],
      "execution_count": 127,
      "outputs": [
        {
          "output_type": "stream",
          "text": [
            "/usr/local/lib/python3.6/dist-packages/pandas/core/indexing.py:362: SettingWithCopyWarning: \n",
            "A value is trying to be set on a copy of a slice from a DataFrame.\n",
            "Try using .loc[row_indexer,col_indexer] = value instead\n",
            "\n",
            "See the caveats in the documentation: http://pandas.pydata.org/pandas-docs/stable/indexing.html#indexing-view-versus-copy\n",
            "  self.obj[key] = _infer_fill_value(value)\n",
            "/usr/local/lib/python3.6/dist-packages/pandas/core/indexing.py:543: SettingWithCopyWarning: \n",
            "A value is trying to be set on a copy of a slice from a DataFrame.\n",
            "Try using .loc[row_indexer,col_indexer] = value instead\n",
            "\n",
            "See the caveats in the documentation: http://pandas.pydata.org/pandas-docs/stable/indexing.html#indexing-view-versus-copy\n",
            "  self.obj[item] = s\n"
          ],
          "name": "stderr"
        }
      ]
    },
    {
      "cell_type": "code",
      "metadata": {
        "id": "vF7QDC64OTTK",
        "colab_type": "code",
        "outputId": "3d446c3b-a9e0-410e-95db-a483ba54381f",
        "colab": {
          "base_uri": "https://localhost:8080/",
          "height": 119
        }
      },
      "source": [
        "sig_df['y'] = sig_df['Change'].shift(-1)"
      ],
      "execution_count": 128,
      "outputs": [
        {
          "output_type": "stream",
          "text": [
            "/usr/local/lib/python3.6/dist-packages/ipykernel_launcher.py:1: SettingWithCopyWarning: \n",
            "A value is trying to be set on a copy of a slice from a DataFrame.\n",
            "Try using .loc[row_indexer,col_indexer] = value instead\n",
            "\n",
            "See the caveats in the documentation: http://pandas.pydata.org/pandas-docs/stable/indexing.html#indexing-view-versus-copy\n",
            "  \"\"\"Entry point for launching an IPython kernel.\n"
          ],
          "name": "stderr"
        }
      ]
    },
    {
      "cell_type": "code",
      "metadata": {
        "id": "YAvPeOJRP2EI",
        "colab_type": "code",
        "outputId": "958e9614-d5ca-4f4a-c7ae-46ad67f8fcfd",
        "colab": {
          "base_uri": "https://localhost:8080/",
          "height": 390
        }
      },
      "source": [
        "sig_df[10:20]"
      ],
      "execution_count": 129,
      "outputs": [
        {
          "output_type": "execute_result",
          "data": {
            "text/html": [
              "<div>\n",
              "<style scoped>\n",
              "    .dataframe tbody tr th:only-of-type {\n",
              "        vertical-align: middle;\n",
              "    }\n",
              "\n",
              "    .dataframe tbody tr th {\n",
              "        vertical-align: top;\n",
              "    }\n",
              "\n",
              "    .dataframe thead th {\n",
              "        text-align: right;\n",
              "    }\n",
              "</style>\n",
              "<table border=\"1\" class=\"dataframe\">\n",
              "  <thead>\n",
              "    <tr style=\"text-align: right;\">\n",
              "      <th></th>\n",
              "      <th>Open</th>\n",
              "      <th>High</th>\n",
              "      <th>Low</th>\n",
              "      <th>Close</th>\n",
              "      <th>Volume</th>\n",
              "      <th>Change</th>\n",
              "      <th>ITM_NO</th>\n",
              "      <th>MA10</th>\n",
              "      <th>ROLLING_STD10</th>\n",
              "      <th>DIFF</th>\n",
              "      <th>SIG</th>\n",
              "      <th>y</th>\n",
              "    </tr>\n",
              "    <tr>\n",
              "      <th>Date</th>\n",
              "      <th></th>\n",
              "      <th></th>\n",
              "      <th></th>\n",
              "      <th></th>\n",
              "      <th></th>\n",
              "      <th></th>\n",
              "      <th></th>\n",
              "      <th></th>\n",
              "      <th></th>\n",
              "      <th></th>\n",
              "      <th></th>\n",
              "      <th></th>\n",
              "    </tr>\n",
              "  </thead>\n",
              "  <tbody>\n",
              "    <tr>\n",
              "      <th>2018-01-16</th>\n",
              "      <td>5390</td>\n",
              "      <td>5480</td>\n",
              "      <td>5380</td>\n",
              "      <td>5450</td>\n",
              "      <td>90476</td>\n",
              "      <td>0.005535</td>\n",
              "      <td>155660</td>\n",
              "      <td>5498.0</td>\n",
              "      <td>106.957936</td>\n",
              "      <td>-48.0</td>\n",
              "      <td>1</td>\n",
              "      <td>-0.005505</td>\n",
              "    </tr>\n",
              "    <tr>\n",
              "      <th>2018-01-17</th>\n",
              "      <td>5440</td>\n",
              "      <td>5480</td>\n",
              "      <td>5340</td>\n",
              "      <td>5420</td>\n",
              "      <td>69579</td>\n",
              "      <td>-0.005505</td>\n",
              "      <td>155660</td>\n",
              "      <td>5505.0</td>\n",
              "      <td>98.121240</td>\n",
              "      <td>-85.0</td>\n",
              "      <td>1</td>\n",
              "      <td>0.014760</td>\n",
              "    </tr>\n",
              "    <tr>\n",
              "      <th>2018-01-18</th>\n",
              "      <td>5410</td>\n",
              "      <td>5540</td>\n",
              "      <td>5390</td>\n",
              "      <td>5500</td>\n",
              "      <td>109002</td>\n",
              "      <td>0.014760</td>\n",
              "      <td>155660</td>\n",
              "      <td>5519.0</td>\n",
              "      <td>84.122926</td>\n",
              "      <td>-19.0</td>\n",
              "      <td>1</td>\n",
              "      <td>-0.005455</td>\n",
              "    </tr>\n",
              "    <tr>\n",
              "      <th>2018-01-19</th>\n",
              "      <td>5500</td>\n",
              "      <td>5560</td>\n",
              "      <td>5440</td>\n",
              "      <td>5470</td>\n",
              "      <td>79755</td>\n",
              "      <td>-0.005455</td>\n",
              "      <td>155660</td>\n",
              "      <td>5517.0</td>\n",
              "      <td>85.120829</td>\n",
              "      <td>-47.0</td>\n",
              "      <td>1</td>\n",
              "      <td>-0.005484</td>\n",
              "    </tr>\n",
              "    <tr>\n",
              "      <th>2018-01-22</th>\n",
              "      <td>5450</td>\n",
              "      <td>5490</td>\n",
              "      <td>5360</td>\n",
              "      <td>5440</td>\n",
              "      <td>38198</td>\n",
              "      <td>-0.005484</td>\n",
              "      <td>155660</td>\n",
              "      <td>5498.0</td>\n",
              "      <td>78.002849</td>\n",
              "      <td>-58.0</td>\n",
              "      <td>1</td>\n",
              "      <td>0.009191</td>\n",
              "    </tr>\n",
              "    <tr>\n",
              "      <th>2018-01-23</th>\n",
              "      <td>5450</td>\n",
              "      <td>5520</td>\n",
              "      <td>5420</td>\n",
              "      <td>5490</td>\n",
              "      <td>63365</td>\n",
              "      <td>0.009191</td>\n",
              "      <td>155660</td>\n",
              "      <td>5486.0</td>\n",
              "      <td>67.363030</td>\n",
              "      <td>4.0</td>\n",
              "      <td>-1</td>\n",
              "      <td>0.005464</td>\n",
              "    </tr>\n",
              "    <tr>\n",
              "      <th>2018-01-24</th>\n",
              "      <td>5490</td>\n",
              "      <td>5600</td>\n",
              "      <td>5470</td>\n",
              "      <td>5520</td>\n",
              "      <td>83615</td>\n",
              "      <td>0.005464</td>\n",
              "      <td>155660</td>\n",
              "      <td>5473.0</td>\n",
              "      <td>38.600518</td>\n",
              "      <td>47.0</td>\n",
              "      <td>-1</td>\n",
              "      <td>0.043478</td>\n",
              "    </tr>\n",
              "    <tr>\n",
              "      <th>2018-01-25</th>\n",
              "      <td>5500</td>\n",
              "      <td>5760</td>\n",
              "      <td>5500</td>\n",
              "      <td>5760</td>\n",
              "      <td>261223</td>\n",
              "      <td>0.043478</td>\n",
              "      <td>155660</td>\n",
              "      <td>5499.0</td>\n",
              "      <td>99.045444</td>\n",
              "      <td>261.0</td>\n",
              "      <td>-1</td>\n",
              "      <td>0.012153</td>\n",
              "    </tr>\n",
              "    <tr>\n",
              "      <th>2018-01-26</th>\n",
              "      <td>5990</td>\n",
              "      <td>6000</td>\n",
              "      <td>5820</td>\n",
              "      <td>5830</td>\n",
              "      <td>637150</td>\n",
              "      <td>0.012153</td>\n",
              "      <td>155660</td>\n",
              "      <td>5530.0</td>\n",
              "      <td>144.452991</td>\n",
              "      <td>300.0</td>\n",
              "      <td>-1</td>\n",
              "      <td>0.008576</td>\n",
              "    </tr>\n",
              "    <tr>\n",
              "      <th>2018-01-29</th>\n",
              "      <td>5830</td>\n",
              "      <td>5920</td>\n",
              "      <td>5740</td>\n",
              "      <td>5880</td>\n",
              "      <td>247184</td>\n",
              "      <td>0.008576</td>\n",
              "      <td>155660</td>\n",
              "      <td>5576.0</td>\n",
              "      <td>175.448631</td>\n",
              "      <td>304.0</td>\n",
              "      <td>-1</td>\n",
              "      <td>-0.015306</td>\n",
              "    </tr>\n",
              "  </tbody>\n",
              "</table>\n",
              "</div>"
            ],
            "text/plain": [
              "            Open  High   Low  Close  ...  ROLLING_STD10   DIFF SIG         y\n",
              "Date                                 ...                                    \n",
              "2018-01-16  5390  5480  5380   5450  ...     106.957936  -48.0   1 -0.005505\n",
              "2018-01-17  5440  5480  5340   5420  ...      98.121240  -85.0   1  0.014760\n",
              "2018-01-18  5410  5540  5390   5500  ...      84.122926  -19.0   1 -0.005455\n",
              "2018-01-19  5500  5560  5440   5470  ...      85.120829  -47.0   1 -0.005484\n",
              "2018-01-22  5450  5490  5360   5440  ...      78.002849  -58.0   1  0.009191\n",
              "2018-01-23  5450  5520  5420   5490  ...      67.363030    4.0  -1  0.005464\n",
              "2018-01-24  5490  5600  5470   5520  ...      38.600518   47.0  -1  0.043478\n",
              "2018-01-25  5500  5760  5500   5760  ...      99.045444  261.0  -1  0.012153\n",
              "2018-01-26  5990  6000  5820   5830  ...     144.452991  300.0  -1  0.008576\n",
              "2018-01-29  5830  5920  5740   5880  ...     175.448631  304.0  -1 -0.015306\n",
              "\n",
              "[10 rows x 12 columns]"
            ]
          },
          "metadata": {
            "tags": []
          },
          "execution_count": 129
        }
      ]
    },
    {
      "cell_type": "code",
      "metadata": {
        "id": "CeenlOTvSROX",
        "colab_type": "code",
        "outputId": "95c54356-b57b-4f4c-b0ce-3b47d159b29e",
        "colab": {
          "base_uri": "https://localhost:8080/",
          "height": 119
        }
      },
      "source": [
        "sig_df.loc[sig_df['SIG']==-1,'y'] = 0"
      ],
      "execution_count": 130,
      "outputs": [
        {
          "output_type": "stream",
          "text": [
            "/usr/local/lib/python3.6/dist-packages/pandas/core/indexing.py:543: SettingWithCopyWarning: \n",
            "A value is trying to be set on a copy of a slice from a DataFrame.\n",
            "Try using .loc[row_indexer,col_indexer] = value instead\n",
            "\n",
            "See the caveats in the documentation: http://pandas.pydata.org/pandas-docs/stable/indexing.html#indexing-view-versus-copy\n",
            "  self.obj[item] = s\n"
          ],
          "name": "stderr"
        }
      ]
    },
    {
      "cell_type": "code",
      "metadata": {
        "id": "q72zw1b1QZ5c",
        "colab_type": "code",
        "outputId": "a283978c-8923-4cef-99fa-7dc779ffe739",
        "colab": {
          "base_uri": "https://localhost:8080/",
          "height": 396
        }
      },
      "source": [
        "sig_df['Close'].plot(figsize=(16,6))"
      ],
      "execution_count": 131,
      "outputs": [
        {
          "output_type": "execute_result",
          "data": {
            "text/plain": [
              "<matplotlib.axes._subplots.AxesSubplot at 0x7f45f1f60da0>"
            ]
          },
          "metadata": {
            "tags": []
          },
          "execution_count": 131
        },
        {
          "output_type": "display_data",
          "data": {
            "image/png": "[encoded data removed]",
            "text/plain": [
              "<Figure size 1152x432 with 1 Axes>"
            ]
          },
          "metadata": {
            "tags": []
          }
        }
      ]
    },
    {
      "cell_type": "code",
      "metadata": {
        "id": "ggPRWFlvJjNo",
        "colab_type": "code",
        "outputId": "79cf648d-bdf4-40a4-88dd-da455af3660c",
        "colab": {
          "base_uri": "https://localhost:8080/",
          "height": 396
        }
      },
      "source": [
        "(sig_df['y'] + 1).cumprod().plot(figsize=(16,6))"
      ],
      "execution_count": 0,
      "outputs": [
        {
          "output_type": "execute_result",
          "data": {
            "text/plain": [
              "<matplotlib.axes._subplots.AxesSubplot at 0x7f45f66b6f98>"
            ]
          },
          "metadata": {
            "tags": []
          },
          "execution_count": 48
        },
        {
          "output_type": "display_data",
          "data": {
            "image/png": "[encoded data removed]",
            "text/plain": [
              "<Figure size 1152x432 with 1 Axes>"
            ]
          },
          "metadata": {
            "tags": []
          }
        }
      ]
    },
    {
      "cell_type": "code",
      "metadata": {
        "id": "j-oRzNUtRfI3",
        "colab_type": "code",
        "colab": {}
      },
      "source": [
        "def get_prod(df):\n",
        "  sig_df = get_sig(df)\n",
        "  sig_df['y'] = sig_df['Change'].shift(-1)\n",
        "  return (sig_df[sig_df['SIG']==1]['y'] + 1).prod()"
      ],
      "execution_count": 0,
      "outputs": []
    },
    {
      "cell_type": "code",
      "metadata": {
        "id": "7ExDDqs-TQZf",
        "colab_type": "code",
        "outputId": "9f9dac10-8376-4fd3-afb6-7985acbd2e8c",
        "colab": {
          "base_uri": "https://localhost:8080/",
          "height": 676
        }
      },
      "source": [
        "prod_lst = []\n",
        "for ticker in stk_tickers[:20]:\n",
        "  prod_lst.append(get_prod(prc_df[prc_df['ITM_NO']== ticker]))\n",
        "prod_lst "
      ],
      "execution_count": 133,
      "outputs": [
        {
          "output_type": "stream",
          "text": [
            "/usr/local/lib/python3.6/dist-packages/pandas/core/indexing.py:362: SettingWithCopyWarning: \n",
            "A value is trying to be set on a copy of a slice from a DataFrame.\n",
            "Try using .loc[row_indexer,col_indexer] = value instead\n",
            "\n",
            "See the caveats in the documentation: http://pandas.pydata.org/pandas-docs/stable/indexing.html#indexing-view-versus-copy\n",
            "  self.obj[key] = _infer_fill_value(value)\n",
            "/usr/local/lib/python3.6/dist-packages/pandas/core/indexing.py:543: SettingWithCopyWarning: \n",
            "A value is trying to be set on a copy of a slice from a DataFrame.\n",
            "Try using .loc[row_indexer,col_indexer] = value instead\n",
            "\n",
            "See the caveats in the documentation: http://pandas.pydata.org/pandas-docs/stable/indexing.html#indexing-view-versus-copy\n",
            "  self.obj[item] = s\n",
            "/usr/local/lib/python3.6/dist-packages/ipykernel_launcher.py:3: SettingWithCopyWarning: \n",
            "A value is trying to be set on a copy of a slice from a DataFrame.\n",
            "Try using .loc[row_indexer,col_indexer] = value instead\n",
            "\n",
            "See the caveats in the documentation: http://pandas.pydata.org/pandas-docs/stable/indexing.html#indexing-view-versus-copy\n",
            "  This is separate from the ipykernel package so we can avoid doing imports until\n"
          ],
          "name": "stderr"
        },
        {
          "output_type": "execute_result",
          "data": {
            "text/plain": [
              "[0.7888565904239172,\n",
              " 0.7500900069607104,\n",
              " 1.3774736568273684,\n",
              " 0.8459337506436083,\n",
              " 0.7234975999722342,\n",
              " 0.7587693322859899,\n",
              " 0.9347129245765508,\n",
              " 1.2366639384528717,\n",
              " 0.35284329793211344,\n",
              " 0.8017933943790017,\n",
              " 0.8562933209778356,\n",
              " 0.5693138382670134,\n",
              " 0.6194707925617111,\n",
              " 0.9114842271318564,\n",
              " 0.8655262481058127,\n",
              " 0.9941557605182642,\n",
              " 1.6199821123019364,\n",
              " 1.0064678053703409,\n",
              " 0.6678135973601846,\n",
              " 1.531993016047163]"
            ]
          },
          "metadata": {
            "tags": []
          },
          "execution_count": 133
        }
      ]
    },
    {
      "cell_type": "code",
      "metadata": {
        "id": "DpiDhRPLRf7Z",
        "colab_type": "code",
        "colab": {}
      },
      "source": [
        "scor_df['prod'] = prod_lst"
      ],
      "execution_count": 0,
      "outputs": []
    },
    {
      "cell_type": "code",
      "metadata": {
        "id": "YlVoe2KPVfQj",
        "colab_type": "code",
        "outputId": "bd36b11e-db90-4407-ffac-1951d0d81101",
        "colab": {
          "base_uri": "https://localhost:8080/",
          "height": 693
        }
      },
      "source": [
        "scor_df"
      ],
      "execution_count": 135,
      "outputs": [
        {
          "output_type": "execute_result",
          "data": {
            "text/html": [
              "<div>\n",
              "<style scoped>\n",
              "    .dataframe tbody tr th:only-of-type {\n",
              "        vertical-align: middle;\n",
              "    }\n",
              "\n",
              "    .dataframe tbody tr th {\n",
              "        vertical-align: top;\n",
              "    }\n",
              "\n",
              "    .dataframe thead th {\n",
              "        text-align: right;\n",
              "    }\n",
              "</style>\n",
              "<table border=\"1\" class=\"dataframe\">\n",
              "  <thead>\n",
              "    <tr style=\"text-align: right;\">\n",
              "      <th></th>\n",
              "      <th>adf</th>\n",
              "      <th>hurst</th>\n",
              "      <th>half_life</th>\n",
              "      <th>prod</th>\n",
              "    </tr>\n",
              "    <tr>\n",
              "      <th>Name</th>\n",
              "      <th></th>\n",
              "      <th></th>\n",
              "      <th></th>\n",
              "      <th></th>\n",
              "    </tr>\n",
              "  </thead>\n",
              "  <tbody>\n",
              "    <tr>\n",
              "      <th>DSR</th>\n",
              "      <td>0.231231</td>\n",
              "      <td>0.382418</td>\n",
              "      <td>27.889586</td>\n",
              "      <td>0.788857</td>\n",
              "    </tr>\n",
              "    <tr>\n",
              "      <th>GS글로벌</th>\n",
              "      <td>0.488116</td>\n",
              "      <td>0.316829</td>\n",
              "      <td>54.761190</td>\n",
              "      <td>0.750090</td>\n",
              "    </tr>\n",
              "    <tr>\n",
              "      <th>HSD엔진</th>\n",
              "      <td>0.267533</td>\n",
              "      <td>0.492960</td>\n",
              "      <td>35.254698</td>\n",
              "      <td>1.377474</td>\n",
              "    </tr>\n",
              "    <tr>\n",
              "      <th>KG케미칼</th>\n",
              "      <td>0.844753</td>\n",
              "      <td>0.433752</td>\n",
              "      <td>152.427256</td>\n",
              "      <td>0.845934</td>\n",
              "    </tr>\n",
              "    <tr>\n",
              "      <th>LG이노텍</th>\n",
              "      <td>0.353326</td>\n",
              "      <td>0.494417</td>\n",
              "      <td>46.233851</td>\n",
              "      <td>0.723498</td>\n",
              "    </tr>\n",
              "    <tr>\n",
              "      <th>OCI</th>\n",
              "      <td>0.545783</td>\n",
              "      <td>0.334458</td>\n",
              "      <td>106.329879</td>\n",
              "      <td>0.758769</td>\n",
              "    </tr>\n",
              "    <tr>\n",
              "      <th>SK네트웍스</th>\n",
              "      <td>0.100156</td>\n",
              "      <td>0.511592</td>\n",
              "      <td>33.112367</td>\n",
              "      <td>0.934713</td>\n",
              "    </tr>\n",
              "    <tr>\n",
              "      <th>SK이노베이션</th>\n",
              "      <td>0.243078</td>\n",
              "      <td>0.235689</td>\n",
              "      <td>32.215522</td>\n",
              "      <td>1.236664</td>\n",
              "    </tr>\n",
              "    <tr>\n",
              "      <th>STX</th>\n",
              "      <td>0.783523</td>\n",
              "      <td>0.500103</td>\n",
              "      <td>217.513738</td>\n",
              "      <td>0.352843</td>\n",
              "    </tr>\n",
              "    <tr>\n",
              "      <th>WISCOM</th>\n",
              "      <td>0.391109</td>\n",
              "      <td>0.341683</td>\n",
              "      <td>88.164178</td>\n",
              "      <td>0.801793</td>\n",
              "    </tr>\n",
              "    <tr>\n",
              "      <th>갤럭시아에스엠</th>\n",
              "      <td>0.199932</td>\n",
              "      <td>0.382239</td>\n",
              "      <td>24.997818</td>\n",
              "      <td>0.856293</td>\n",
              "    </tr>\n",
              "    <tr>\n",
              "      <th>경동도시가스</th>\n",
              "      <td>0.877761</td>\n",
              "      <td>0.462242</td>\n",
              "      <td>215.843264</td>\n",
              "      <td>0.569314</td>\n",
              "    </tr>\n",
              "    <tr>\n",
              "      <th>경동인베스트</th>\n",
              "      <td>0.074640</td>\n",
              "      <td>0.400613</td>\n",
              "      <td>44.216412</td>\n",
              "      <td>0.619471</td>\n",
              "    </tr>\n",
              "    <tr>\n",
              "      <th>고려아연</th>\n",
              "      <td>0.161460</td>\n",
              "      <td>0.446895</td>\n",
              "      <td>31.539237</td>\n",
              "      <td>0.911484</td>\n",
              "    </tr>\n",
              "    <tr>\n",
              "      <th>고려제강</th>\n",
              "      <td>0.387670</td>\n",
              "      <td>0.424353</td>\n",
              "      <td>49.850368</td>\n",
              "      <td>0.865526</td>\n",
              "    </tr>\n",
              "    <tr>\n",
              "      <th>극동유화</th>\n",
              "      <td>0.091448</td>\n",
              "      <td>0.322618</td>\n",
              "      <td>10.569900</td>\n",
              "      <td>0.994156</td>\n",
              "    </tr>\n",
              "    <tr>\n",
              "      <th>까뮤이앤씨</th>\n",
              "      <td>0.063077</td>\n",
              "      <td>0.450134</td>\n",
              "      <td>16.953167</td>\n",
              "      <td>1.619982</td>\n",
              "    </tr>\n",
              "    <tr>\n",
              "      <th>남양유업</th>\n",
              "      <td>0.895096</td>\n",
              "      <td>0.289420</td>\n",
              "      <td>135.087602</td>\n",
              "      <td>1.006468</td>\n",
              "    </tr>\n",
              "    <tr>\n",
              "      <th>노루페인트</th>\n",
              "      <td>0.377328</td>\n",
              "      <td>0.448181</td>\n",
              "      <td>64.883453</td>\n",
              "      <td>0.667814</td>\n",
              "    </tr>\n",
              "    <tr>\n",
              "      <th>대영포장</th>\n",
              "      <td>0.386182</td>\n",
              "      <td>0.394551</td>\n",
              "      <td>48.933149</td>\n",
              "      <td>1.531993</td>\n",
              "    </tr>\n",
              "  </tbody>\n",
              "</table>\n",
              "</div>"
            ],
            "text/plain": [
              "              adf     hurst   half_life      prod\n",
              "Name                                             \n",
              "DSR      0.231231  0.382418   27.889586  0.788857\n",
              "GS글로벌    0.488116  0.316829   54.761190  0.750090\n",
              "HSD엔진    0.267533  0.492960   35.254698  1.377474\n",
              "KG케미칼    0.844753  0.433752  152.427256  0.845934\n",
              "LG이노텍    0.353326  0.494417   46.233851  0.723498\n",
              "OCI      0.545783  0.334458  106.329879  0.758769\n",
              "SK네트웍스   0.100156  0.511592   33.112367  0.934713\n",
              "SK이노베이션  0.243078  0.235689   32.215522  1.236664\n",
              "STX      0.783523  0.500103  217.513738  0.352843\n",
              "WISCOM   0.391109  0.341683   88.164178  0.801793\n",
              "갤럭시아에스엠  0.199932  0.382239   24.997818  0.856293\n",
              "경동도시가스   0.877761  0.462242  215.843264  0.569314\n",
              "경동인베스트   0.074640  0.400613   44.216412  0.619471\n",
              "고려아연     0.161460  0.446895   31.539237  0.911484\n",
              "고려제강     0.387670  0.424353   49.850368  0.865526\n",
              "극동유화     0.091448  0.322618   10.569900  0.994156\n",
              "까뮤이앤씨    0.063077  0.450134   16.953167  1.619982\n",
              "남양유업     0.895096  0.289420  135.087602  1.006468\n",
              "노루페인트    0.377328  0.448181   64.883453  0.667814\n",
              "대영포장     0.386182  0.394551   48.933149  1.531993"
            ]
          },
          "metadata": {
            "tags": []
          },
          "execution_count": 135
        }
      ]
    },
    {
      "cell_type": "code",
      "metadata": {
        "id": "vO8zpnJtRf0a",
        "colab_type": "code",
        "outputId": "128a7e0f-da58-474c-b62e-4aaace4224ca",
        "colab": {
          "base_uri": "https://localhost:8080/",
          "height": 35
        }
      },
      "source": [
        "scor_df['prod'].mean()"
      ],
      "execution_count": 136,
      "outputs": [
        {
          "output_type": "execute_result",
          "data": {
            "text/plain": [
              "0.9106567605548241"
            ]
          },
          "metadata": {
            "tags": []
          },
          "execution_count": 136
        }
      ]
    },
    {
      "cell_type": "code",
      "metadata": {
        "id": "xeXHDqRGUiGm",
        "colab_type": "code",
        "outputId": "39150c2f-770a-4d4c-ec3c-826ff8dbb370",
        "colab": {
          "base_uri": "https://localhost:8080/",
          "height": 34
        }
      },
      "source": [
        "scor_df.iloc[:,:-1].rank()[scor_df.iloc[:,:-1].rank()<10].dropna().index"
      ],
      "execution_count": 0,
      "outputs": [
        {
          "output_type": "execute_result",
          "data": {
            "text/plain": [
              "Index(['DSR', 'SK이노베이션', '갤럭시아에스엠', '극동유화'], dtype='object', name='Name')"
            ]
          },
          "metadata": {
            "tags": []
          },
          "execution_count": 59
        }
      ]
    },
    {
      "cell_type": "code",
      "metadata": {
        "id": "p61b_imRVL8F",
        "colab_type": "code",
        "outputId": "0c8ffabd-65a1-4f2e-f4f9-bcca66a13b90",
        "colab": {
          "base_uri": "https://localhost:8080/",
          "height": 202
        }
      },
      "source": [
        "scor_df.loc[scor_df.iloc[:,:-1].rank()[scor_df.iloc[:,:-1].rank()<10].dropna().index]"
      ],
      "execution_count": 137,
      "outputs": [
        {
          "output_type": "execute_result",
          "data": {
            "text/html": [
              "<div>\n",
              "<style scoped>\n",
              "    .dataframe tbody tr th:only-of-type {\n",
              "        vertical-align: middle;\n",
              "    }\n",
              "\n",
              "    .dataframe tbody tr th {\n",
              "        vertical-align: top;\n",
              "    }\n",
              "\n",
              "    .dataframe thead th {\n",
              "        text-align: right;\n",
              "    }\n",
              "</style>\n",
              "<table border=\"1\" class=\"dataframe\">\n",
              "  <thead>\n",
              "    <tr style=\"text-align: right;\">\n",
              "      <th></th>\n",
              "      <th>adf</th>\n",
              "      <th>hurst</th>\n",
              "      <th>half_life</th>\n",
              "      <th>prod</th>\n",
              "    </tr>\n",
              "    <tr>\n",
              "      <th>Name</th>\n",
              "      <th></th>\n",
              "      <th></th>\n",
              "      <th></th>\n",
              "      <th></th>\n",
              "    </tr>\n",
              "  </thead>\n",
              "  <tbody>\n",
              "    <tr>\n",
              "      <th>DSR</th>\n",
              "      <td>0.231231</td>\n",
              "      <td>0.382418</td>\n",
              "      <td>27.889586</td>\n",
              "      <td>0.788857</td>\n",
              "    </tr>\n",
              "    <tr>\n",
              "      <th>SK이노베이션</th>\n",
              "      <td>0.243078</td>\n",
              "      <td>0.235689</td>\n",
              "      <td>32.215522</td>\n",
              "      <td>1.236664</td>\n",
              "    </tr>\n",
              "    <tr>\n",
              "      <th>갤럭시아에스엠</th>\n",
              "      <td>0.199932</td>\n",
              "      <td>0.382239</td>\n",
              "      <td>24.997818</td>\n",
              "      <td>0.856293</td>\n",
              "    </tr>\n",
              "    <tr>\n",
              "      <th>극동유화</th>\n",
              "      <td>0.091448</td>\n",
              "      <td>0.322618</td>\n",
              "      <td>10.569900</td>\n",
              "      <td>0.994156</td>\n",
              "    </tr>\n",
              "  </tbody>\n",
              "</table>\n",
              "</div>"
            ],
            "text/plain": [
              "              adf     hurst  half_life      prod\n",
              "Name                                            \n",
              "DSR      0.231231  0.382418  27.889586  0.788857\n",
              "SK이노베이션  0.243078  0.235689  32.215522  1.236664\n",
              "갤럭시아에스엠  0.199932  0.382239  24.997818  0.856293\n",
              "극동유화     0.091448  0.322618  10.569900  0.994156"
            ]
          },
          "metadata": {
            "tags": []
          },
          "execution_count": 137
        }
      ]
    },
    {
      "cell_type": "code",
      "metadata": {
        "id": "S0rLSdJjRfnY",
        "colab_type": "code",
        "outputId": "6dc528aa-9363-4f50-e07f-716348476a24",
        "colab": {
          "base_uri": "https://localhost:8080/",
          "height": 35
        }
      },
      "source": [
        "scor_df.loc[scor_df.iloc[:,:-1].rank()[scor_df.iloc[:,:-1].rank()<10].dropna().index]['prod'].mean()"
      ],
      "execution_count": 138,
      "outputs": [
        {
          "output_type": "execute_result",
          "data": {
            "text/plain": [
              "0.9689924025932221"
            ]
          },
          "metadata": {
            "tags": []
          },
          "execution_count": 138
        }
      ]
    },
    {
      "cell_type": "code",
      "metadata": {
        "id": "Su8BsjARRfeY",
        "colab_type": "code",
        "colab": {}
      },
      "source": [
        ""
      ],
      "execution_count": 0,
      "outputs": []
    },
    {
      "cell_type": "markdown",
      "metadata": {
        "id": "uRqRi0EFWikK",
        "colab_type": "text"
      },
      "source": [
        "## 머신러닝 모델 구현하기\n",
        "\n",
        "\n",
        "\n",
        "*   Scikit-learn 라이브러리를 이용해 주가방향을 예측할 수 있는 간단한 주가방향 예측모형을 구현함\n",
        "\n",
        "\n",
        "### 데이터셋\n",
        "\n",
        "* 데이터셋은 finance-datareader를 활용해, 삼성전자와 현대차의 주가정보를 불러옴\n",
        "  * 교재에서는 야후파이낸스를 활용함\n",
        "  * 학습용 데이터셋과 테스트용 데이터셋은 전체를 기준으로 75:25로 나누어 사용함\n",
        "  * make_dataset() 함수를 이용해 주가방향 예측변수에 사용할 데이터셋을 만듬"
      ]
    },
    {
      "cell_type": "code",
      "metadata": {
        "id": "nf0S_PGR4dcL",
        "colab_type": "code",
        "colab": {}
      },
      "source": [
        "def make_dataset(df, time_lags=5):\n",
        "\n",
        "  df_lag = pd.DataFrame(index=df.index)\n",
        "  df_lag[\"Close\"] = df[\"Close\"]\n",
        "  df_lag[\"Volume\"] = df[\"Volume\"]\n",
        "\n",
        "  # 사용자가 지정한 일자만큼의 종가, 거래량을 나타내는 입력변수\n",
        "  df_lag[\"Close_Lag%s\" % str(time_lags)] = df[\"Close\"].shift(time_lags)\n",
        "  df_lag[\"Close_Lag%s_Change\" % str(time_lags)] = df_lag[\"Close_Lag%s\" % str(time_lags)].pct_change()*100.0\n",
        "\n",
        "  df_lag[\"Volume_Lag%s\" % str(time_lags)] = df[\"Volume\"].shift(time_lags)\n",
        "  df_lag[\"Volume_Lag%s_Change\" % str(time_lags)] = df_lag[\"Volume_Lag%s\" % str(time_lags)].pct_change()*100.0\n",
        "\n",
        "  # 주가의 방향을, 뒤는 거래량의 방향을 나타냄\n",
        "  # 예를 들어, 주가가 전날 대비 올랐으면 Close_Direction은 +1, 내렸으면 -1의 값을 가짐\n",
        "  df_lag[\"Close_Direction\"] = np.sign(df_lag[\"Close_Lag%s_Change\" % str(time_lags)])\n",
        "  df_lag[\"Volume_Direction\"] = np.sign(df_lag[\"Volume_Lag%s_Change\" % str(time_lags)])\n",
        "\n",
        "  return df_lag.dropna(how='any')"
      ],
      "execution_count": 0,
      "outputs": []
    },
    {
      "cell_type": "markdown",
      "metadata": {
        "id": "HLotf84S4huK",
        "colab_type": "text"
      },
      "source": [
        "### 데이터셋 나누기\n",
        "\n",
        "* split_dataset()함수를 통해 주어진 데이터셋을 사용자가 지정한 입력변수와 출력변수로 일정 비율로 나누어 줌\n",
        "  * ex) input_column_array=['Close'], output_column=\"Close_Direction\", split_ratio=0.75 인자 설정 시,\n",
        "    * 입력변수로df_lag['Close'] 를 사용하고 출력변수는 df_lag['Close_Direction'], 전체 데이터의 75%를 학습용, 25%를 테스트용 데이터셋으로 나눔\n",
        "  * get_date_by_percent() 함수는 주어진 데이터셋의 시작일과 마감일의 날수를 계산해 사용자가 지정한 split_ratio에 따라 계산해 날수를 돌려주는 함수임\n",
        "    * 시계열 데이터이기 때문에 학습과 테스트에 사용할 데이터를 무작위로 추출하지 않고 시간을 기준으로 나누어야 함"
      ]
    },
    {
      "cell_type": "code",
      "metadata": {
        "id": "iQpRKIQq5AFt",
        "colab_type": "code",
        "colab": {}
      },
      "source": [
        "def split_dataset(df, input_column_array, output_column, spllit_ratio):\n",
        "  split_date = get_date_by_percent(df.index[0],df.index[df.shape[0]-1],spllit_ratio)\n",
        "\n",
        "  input_data = df[input_column_array]\n",
        "  output_data = df[output_column]\n",
        "\n",
        "  # Create training and test sets\n",
        "  X_train = input_data[input_data.index < split_date]\n",
        "  X_test = input_data[input_data.index >= split_date]\n",
        "  Y_train = output_data[output_data.index < split_date]\n",
        "  Y_test = output_data[output_data.index >= split_date]\n",
        "\n",
        "  return X_train,X_test,Y_train,Y_test\n",
        "\n",
        "def get_date_by_percent(start_date, end_date, percent):\n",
        "  days = (end_date - start_date).days\n",
        "  target_days = np.trunc(days * percent)\n",
        "  target_date = start_date + datetime.timedelta(days=target_days)\n",
        "  #print days, target_days,target_date\n",
        "  return target_date"
      ],
      "execution_count": 0,
      "outputs": []
    },
    {
      "cell_type": "markdown",
      "metadata": {
        "id": "zncGE16s6Yy8",
        "colab_type": "text"
      },
      "source": [
        "### 주가방향 예측변수 작성\n",
        "\n",
        "* Scikit-learn은 사용하는 로지스틱 회귀, 랜덤 포레스트, SVM 등의 머신러닝 알고리즘과 상관없이 동일한 구조로 예측 모형을 만들 수 있음\n",
        "  * 만약, SVM의 파라미터인 gamma와 C값을 지정하고 싶다면, 아래와 같이 하면 됨\n",
        "    * classifer = SVC(gamma=0.001, C=100)\n",
        "  * fit() 함수는 주어진 학습용 데이터셋을 알고리즘에 학습시키는 것으로 입력변수와 출력변수를 인자로 받음\n",
        "  * (책에 안나오는 내용) 머신러닝 모형을 개발하기 위해서 일반적으로 Feature에 한하여, Normalization을 함"
      ]
    },
    {
      "cell_type": "code",
      "metadata": {
        "id": "qzlb8wMK6t8_",
        "colab_type": "code",
        "colab": {}
      },
      "source": [
        "def do_logistic_regression(x_train,y_train):\n",
        "  classifier = LogisticRegression(solver='lbfgs', multi_class ='auto')\n",
        "  classifier.fit(x_train, y_train)\n",
        "  return classifier\n",
        "\n",
        "\n",
        "def do_random_forest(x_train,y_train):\n",
        "  classifier = RandomForestClassifier(n_estimators = 100)\n",
        "  classifier.fit(x_train, y_train)\n",
        "  return classifier\n",
        "\n",
        "\n",
        "def do_svm(x_train,y_train):\n",
        "  classifier = SVC(gamma='auto')\n",
        "  classifier.fit(x_train, y_train)\n",
        "  return classifier"
      ],
      "execution_count": 0,
      "outputs": []
    },
    {
      "cell_type": "code",
      "metadata": {
        "id": "FJTTALToVq_-",
        "colab_type": "code",
        "colab": {}
      },
      "source": [
        "def test_predictor(classifier,x_test,y_test):\n",
        "  pred = classifier.predict(x_test)\n",
        "\n",
        "  hit_count = 0\n",
        "  total_count = len(y_test)\n",
        "  for index in range(total_count):\n",
        "      if (pred[index]) == (y_test[index]):\n",
        "          hit_count = hit_count + 1\n",
        "\n",
        "  hit_ratio = hit_count/total_count\n",
        "  score = classifier.score(x_test, y_test)\n",
        "  #print \"hit_count=%s, total=%s, hit_ratio = %s\" % (hit_count,total_count,hit_ratio)\n",
        "\n",
        "  return hit_ratio, score\n",
        "  # Output the hit-rate and the confusion matrix for each model\n",
        "\n",
        "  #print(\"%s\\n\" % confusion_matrix(pred, y_test))"
      ],
      "execution_count": 0,
      "outputs": []
    },
    {
      "cell_type": "code",
      "metadata": {
        "id": "j1MuqguUVrDO",
        "colab_type": "code",
        "outputId": "2038654a-9b88-4212-e9d0-a929f890da1b",
        "colab": {
          "base_uri": "https://localhost:8080/",
          "height": 693
        }
      },
      "source": [
        "ml_df = pd.DataFrame()\n",
        "avg_hit_ratio = 0    \n",
        "time_lags = 5\n",
        "leraned_machines = []\n",
        "\n",
        "for ticker in stk_tickers[:20]:  \n",
        "  df_company = prc_df[prc_df['ITM_NO'] == ticker].copy()\n",
        "    \n",
        "  df_dataset = make_dataset(df_company)\n",
        "  X_train,X_test,Y_train,Y_test = split_dataset(df_dataset,[\"Close_Lag%s\"%(time_lags),\"Volume_Lag%s\"%(time_lags)],\"Close_Direction\",0.75)\n",
        "    \n",
        "  lr_classifier = do_logistic_regression(X_train,Y_train)\n",
        "  lr_hit_ratio, lr_score = test_predictor(lr_classifier,X_test,Y_test)\n",
        "\n",
        "  rf_classifier = do_random_forest(X_train,Y_train)\n",
        "  rf_hit_ratio, rf_score = test_predictor(rf_classifier,X_test,Y_test)\n",
        "\n",
        "  svm_classifier = do_svm(X_train,Y_train)\n",
        "  svm_hit_ratio, svm_score = test_predictor(rf_classifier,X_test,Y_test)\n",
        "    \n",
        "  clfs = [lr_classifier, rf_classifier, svm_classifier]\n",
        "  \n",
        "  ml_df = ml_df.append([[lr_hit_ratio, rf_hit_ratio, svm_hit_ratio]])\n",
        "  leraned_machines.append(clfs)\n",
        "\n",
        "ml_df.index = stk_df['Name'][:20]\n",
        "ml_df"
      ],
      "execution_count": 145,
      "outputs": [
        {
          "output_type": "execute_result",
          "data": {
            "text/html": [
              "<div>\n",
              "<style scoped>\n",
              "    .dataframe tbody tr th:only-of-type {\n",
              "        vertical-align: middle;\n",
              "    }\n",
              "\n",
              "    .dataframe tbody tr th {\n",
              "        vertical-align: top;\n",
              "    }\n",
              "\n",
              "    .dataframe thead th {\n",
              "        text-align: right;\n",
              "    }\n",
              "</style>\n",
              "<table border=\"1\" class=\"dataframe\">\n",
              "  <thead>\n",
              "    <tr style=\"text-align: right;\">\n",
              "      <th></th>\n",
              "      <th>0</th>\n",
              "      <th>1</th>\n",
              "      <th>2</th>\n",
              "    </tr>\n",
              "    <tr>\n",
              "      <th>Name</th>\n",
              "      <th></th>\n",
              "      <th></th>\n",
              "      <th></th>\n",
              "    </tr>\n",
              "  </thead>\n",
              "  <tbody>\n",
              "    <tr>\n",
              "      <th>DSR</th>\n",
              "      <td>0.476190</td>\n",
              "      <td>0.419048</td>\n",
              "      <td>0.419048</td>\n",
              "    </tr>\n",
              "    <tr>\n",
              "      <th>GS글로벌</th>\n",
              "      <td>0.485714</td>\n",
              "      <td>0.504762</td>\n",
              "      <td>0.504762</td>\n",
              "    </tr>\n",
              "    <tr>\n",
              "      <th>HSD엔진</th>\n",
              "      <td>0.361905</td>\n",
              "      <td>0.447619</td>\n",
              "      <td>0.447619</td>\n",
              "    </tr>\n",
              "    <tr>\n",
              "      <th>KG케미칼</th>\n",
              "      <td>0.438095</td>\n",
              "      <td>0.371429</td>\n",
              "      <td>0.371429</td>\n",
              "    </tr>\n",
              "    <tr>\n",
              "      <th>LG이노텍</th>\n",
              "      <td>0.485714</td>\n",
              "      <td>0.390476</td>\n",
              "      <td>0.390476</td>\n",
              "    </tr>\n",
              "    <tr>\n",
              "      <th>OCI</th>\n",
              "      <td>0.514286</td>\n",
              "      <td>0.419048</td>\n",
              "      <td>0.419048</td>\n",
              "    </tr>\n",
              "    <tr>\n",
              "      <th>SK네트웍스</th>\n",
              "      <td>0.514286</td>\n",
              "      <td>0.428571</td>\n",
              "      <td>0.428571</td>\n",
              "    </tr>\n",
              "    <tr>\n",
              "      <th>SK이노베이션</th>\n",
              "      <td>0.438095</td>\n",
              "      <td>0.533333</td>\n",
              "      <td>0.533333</td>\n",
              "    </tr>\n",
              "    <tr>\n",
              "      <th>STX</th>\n",
              "      <td>0.527027</td>\n",
              "      <td>0.256757</td>\n",
              "      <td>0.256757</td>\n",
              "    </tr>\n",
              "    <tr>\n",
              "      <th>WISCOM</th>\n",
              "      <td>0.361905</td>\n",
              "      <td>0.428571</td>\n",
              "      <td>0.428571</td>\n",
              "    </tr>\n",
              "    <tr>\n",
              "      <th>갤럭시아에스엠</th>\n",
              "      <td>0.552381</td>\n",
              "      <td>0.466667</td>\n",
              "      <td>0.466667</td>\n",
              "    </tr>\n",
              "    <tr>\n",
              "      <th>경동도시가스</th>\n",
              "      <td>0.428571</td>\n",
              "      <td>0.504762</td>\n",
              "      <td>0.504762</td>\n",
              "    </tr>\n",
              "    <tr>\n",
              "      <th>경동인베스트</th>\n",
              "      <td>0.447619</td>\n",
              "      <td>0.476190</td>\n",
              "      <td>0.476190</td>\n",
              "    </tr>\n",
              "    <tr>\n",
              "      <th>고려아연</th>\n",
              "      <td>0.438095</td>\n",
              "      <td>0.438095</td>\n",
              "      <td>0.438095</td>\n",
              "    </tr>\n",
              "    <tr>\n",
              "      <th>고려제강</th>\n",
              "      <td>0.542857</td>\n",
              "      <td>0.438095</td>\n",
              "      <td>0.438095</td>\n",
              "    </tr>\n",
              "    <tr>\n",
              "      <th>극동유화</th>\n",
              "      <td>0.361905</td>\n",
              "      <td>0.523810</td>\n",
              "      <td>0.523810</td>\n",
              "    </tr>\n",
              "    <tr>\n",
              "      <th>까뮤이앤씨</th>\n",
              "      <td>0.485714</td>\n",
              "      <td>0.542857</td>\n",
              "      <td>0.542857</td>\n",
              "    </tr>\n",
              "    <tr>\n",
              "      <th>남양유업</th>\n",
              "      <td>0.533333</td>\n",
              "      <td>0.523810</td>\n",
              "      <td>0.523810</td>\n",
              "    </tr>\n",
              "    <tr>\n",
              "      <th>노루페인트</th>\n",
              "      <td>0.438095</td>\n",
              "      <td>0.428571</td>\n",
              "      <td>0.428571</td>\n",
              "    </tr>\n",
              "    <tr>\n",
              "      <th>대영포장</th>\n",
              "      <td>0.466667</td>\n",
              "      <td>0.361905</td>\n",
              "      <td>0.361905</td>\n",
              "    </tr>\n",
              "  </tbody>\n",
              "</table>\n",
              "</div>"
            ],
            "text/plain": [
              "                0         1         2\n",
              "Name                                 \n",
              "DSR      0.476190  0.419048  0.419048\n",
              "GS글로벌    0.485714  0.504762  0.504762\n",
              "HSD엔진    0.361905  0.447619  0.447619\n",
              "KG케미칼    0.438095  0.371429  0.371429\n",
              "LG이노텍    0.485714  0.390476  0.390476\n",
              "OCI      0.514286  0.419048  0.419048\n",
              "SK네트웍스   0.514286  0.428571  0.428571\n",
              "SK이노베이션  0.438095  0.533333  0.533333\n",
              "STX      0.527027  0.256757  0.256757\n",
              "WISCOM   0.361905  0.428571  0.428571\n",
              "갤럭시아에스엠  0.552381  0.466667  0.466667\n",
              "경동도시가스   0.428571  0.504762  0.504762\n",
              "경동인베스트   0.447619  0.476190  0.476190\n",
              "고려아연     0.438095  0.438095  0.438095\n",
              "고려제강     0.542857  0.438095  0.438095\n",
              "극동유화     0.361905  0.523810  0.523810\n",
              "까뮤이앤씨    0.485714  0.542857  0.542857\n",
              "남양유업     0.533333  0.523810  0.523810\n",
              "노루페인트    0.438095  0.428571  0.428571\n",
              "대영포장     0.466667  0.361905  0.361905"
            ]
          },
          "metadata": {
            "tags": []
          },
          "execution_count": 145
        }
      ]
    },
    {
      "cell_type": "code",
      "metadata": {
        "id": "knETUYAf-XGP",
        "colab_type": "code",
        "outputId": "69ce8398-cc18-427e-9725-2e55208cd408",
        "colab": {
          "base_uri": "https://localhost:8080/",
          "height": 693
        }
      },
      "source": [
        "ml_df.rank(pct=True)"
      ],
      "execution_count": 146,
      "outputs": [
        {
          "output_type": "execute_result",
          "data": {
            "text/html": [
              "<div>\n",
              "<style scoped>\n",
              "    .dataframe tbody tr th:only-of-type {\n",
              "        vertical-align: middle;\n",
              "    }\n",
              "\n",
              "    .dataframe tbody tr th {\n",
              "        vertical-align: top;\n",
              "    }\n",
              "\n",
              "    .dataframe thead th {\n",
              "        text-align: right;\n",
              "    }\n",
              "</style>\n",
              "<table border=\"1\" class=\"dataframe\">\n",
              "  <thead>\n",
              "    <tr style=\"text-align: right;\">\n",
              "      <th></th>\n",
              "      <th>0</th>\n",
              "      <th>1</th>\n",
              "      <th>2</th>\n",
              "    </tr>\n",
              "    <tr>\n",
              "      <th>Name</th>\n",
              "      <th></th>\n",
              "      <th></th>\n",
              "      <th></th>\n",
              "    </tr>\n",
              "  </thead>\n",
              "  <tbody>\n",
              "    <tr>\n",
              "      <th>DSR</th>\n",
              "      <td>0.550</td>\n",
              "      <td>0.275</td>\n",
              "      <td>0.275</td>\n",
              "    </tr>\n",
              "    <tr>\n",
              "      <th>GS글로벌</th>\n",
              "      <td>0.650</td>\n",
              "      <td>0.775</td>\n",
              "      <td>0.775</td>\n",
              "    </tr>\n",
              "    <tr>\n",
              "      <th>HSD엔진</th>\n",
              "      <td>0.100</td>\n",
              "      <td>0.600</td>\n",
              "      <td>0.600</td>\n",
              "    </tr>\n",
              "    <tr>\n",
              "      <th>KG케미칼</th>\n",
              "      <td>0.325</td>\n",
              "      <td>0.150</td>\n",
              "      <td>0.150</td>\n",
              "    </tr>\n",
              "    <tr>\n",
              "      <th>LG이노텍</th>\n",
              "      <td>0.650</td>\n",
              "      <td>0.200</td>\n",
              "      <td>0.200</td>\n",
              "    </tr>\n",
              "    <tr>\n",
              "      <th>OCI</th>\n",
              "      <td>0.775</td>\n",
              "      <td>0.275</td>\n",
              "      <td>0.275</td>\n",
              "    </tr>\n",
              "    <tr>\n",
              "      <th>SK네트웍스</th>\n",
              "      <td>0.775</td>\n",
              "      <td>0.400</td>\n",
              "      <td>0.400</td>\n",
              "    </tr>\n",
              "    <tr>\n",
              "      <th>SK이노베이션</th>\n",
              "      <td>0.325</td>\n",
              "      <td>0.950</td>\n",
              "      <td>0.950</td>\n",
              "    </tr>\n",
              "    <tr>\n",
              "      <th>STX</th>\n",
              "      <td>0.850</td>\n",
              "      <td>0.050</td>\n",
              "      <td>0.050</td>\n",
              "    </tr>\n",
              "    <tr>\n",
              "      <th>WISCOM</th>\n",
              "      <td>0.100</td>\n",
              "      <td>0.400</td>\n",
              "      <td>0.400</td>\n",
              "    </tr>\n",
              "    <tr>\n",
              "      <th>갤럭시아에스엠</th>\n",
              "      <td>1.000</td>\n",
              "      <td>0.650</td>\n",
              "      <td>0.650</td>\n",
              "    </tr>\n",
              "    <tr>\n",
              "      <th>경동도시가스</th>\n",
              "      <td>0.200</td>\n",
              "      <td>0.775</td>\n",
              "      <td>0.775</td>\n",
              "    </tr>\n",
              "    <tr>\n",
              "      <th>경동인베스트</th>\n",
              "      <td>0.450</td>\n",
              "      <td>0.700</td>\n",
              "      <td>0.700</td>\n",
              "    </tr>\n",
              "    <tr>\n",
              "      <th>고려아연</th>\n",
              "      <td>0.325</td>\n",
              "      <td>0.525</td>\n",
              "      <td>0.525</td>\n",
              "    </tr>\n",
              "    <tr>\n",
              "      <th>고려제강</th>\n",
              "      <td>0.950</td>\n",
              "      <td>0.525</td>\n",
              "      <td>0.525</td>\n",
              "    </tr>\n",
              "    <tr>\n",
              "      <th>극동유화</th>\n",
              "      <td>0.100</td>\n",
              "      <td>0.875</td>\n",
              "      <td>0.875</td>\n",
              "    </tr>\n",
              "    <tr>\n",
              "      <th>까뮤이앤씨</th>\n",
              "      <td>0.650</td>\n",
              "      <td>1.000</td>\n",
              "      <td>1.000</td>\n",
              "    </tr>\n",
              "    <tr>\n",
              "      <th>남양유업</th>\n",
              "      <td>0.900</td>\n",
              "      <td>0.875</td>\n",
              "      <td>0.875</td>\n",
              "    </tr>\n",
              "    <tr>\n",
              "      <th>노루페인트</th>\n",
              "      <td>0.325</td>\n",
              "      <td>0.400</td>\n",
              "      <td>0.400</td>\n",
              "    </tr>\n",
              "    <tr>\n",
              "      <th>대영포장</th>\n",
              "      <td>0.500</td>\n",
              "      <td>0.100</td>\n",
              "      <td>0.100</td>\n",
              "    </tr>\n",
              "  </tbody>\n",
              "</table>\n",
              "</div>"
            ],
            "text/plain": [
              "             0      1      2\n",
              "Name                        \n",
              "DSR      0.550  0.275  0.275\n",
              "GS글로벌    0.650  0.775  0.775\n",
              "HSD엔진    0.100  0.600  0.600\n",
              "KG케미칼    0.325  0.150  0.150\n",
              "LG이노텍    0.650  0.200  0.200\n",
              "OCI      0.775  0.275  0.275\n",
              "SK네트웍스   0.775  0.400  0.400\n",
              "SK이노베이션  0.325  0.950  0.950\n",
              "STX      0.850  0.050  0.050\n",
              "WISCOM   0.100  0.400  0.400\n",
              "갤럭시아에스엠  1.000  0.650  0.650\n",
              "경동도시가스   0.200  0.775  0.775\n",
              "경동인베스트   0.450  0.700  0.700\n",
              "고려아연     0.325  0.525  0.525\n",
              "고려제강     0.950  0.525  0.525\n",
              "극동유화     0.100  0.875  0.875\n",
              "까뮤이앤씨    0.650  1.000  1.000\n",
              "남양유업     0.900  0.875  0.875\n",
              "노루페인트    0.325  0.400  0.400\n",
              "대영포장     0.500  0.100  0.100"
            ]
          },
          "metadata": {
            "tags": []
          },
          "execution_count": 146
        }
      ]
    },
    {
      "cell_type": "code",
      "metadata": {
        "id": "FlVhbIQY9L2Y",
        "colab_type": "code",
        "outputId": "c7c67a7c-435b-45a7-d95e-6f3262088436",
        "colab": {
          "base_uri": "https://localhost:8080/",
          "height": 202
        }
      },
      "source": [
        "ml_df.rank(pct=True)[ml_df.rank(pct=True)>0.6].dropna()"
      ],
      "execution_count": 147,
      "outputs": [
        {
          "output_type": "execute_result",
          "data": {
            "text/html": [
              "<div>\n",
              "<style scoped>\n",
              "    .dataframe tbody tr th:only-of-type {\n",
              "        vertical-align: middle;\n",
              "    }\n",
              "\n",
              "    .dataframe tbody tr th {\n",
              "        vertical-align: top;\n",
              "    }\n",
              "\n",
              "    .dataframe thead th {\n",
              "        text-align: right;\n",
              "    }\n",
              "</style>\n",
              "<table border=\"1\" class=\"dataframe\">\n",
              "  <thead>\n",
              "    <tr style=\"text-align: right;\">\n",
              "      <th></th>\n",
              "      <th>0</th>\n",
              "      <th>1</th>\n",
              "      <th>2</th>\n",
              "    </tr>\n",
              "    <tr>\n",
              "      <th>Name</th>\n",
              "      <th></th>\n",
              "      <th></th>\n",
              "      <th></th>\n",
              "    </tr>\n",
              "  </thead>\n",
              "  <tbody>\n",
              "    <tr>\n",
              "      <th>GS글로벌</th>\n",
              "      <td>0.65</td>\n",
              "      <td>0.775</td>\n",
              "      <td>0.775</td>\n",
              "    </tr>\n",
              "    <tr>\n",
              "      <th>갤럭시아에스엠</th>\n",
              "      <td>1.00</td>\n",
              "      <td>0.650</td>\n",
              "      <td>0.650</td>\n",
              "    </tr>\n",
              "    <tr>\n",
              "      <th>까뮤이앤씨</th>\n",
              "      <td>0.65</td>\n",
              "      <td>1.000</td>\n",
              "      <td>1.000</td>\n",
              "    </tr>\n",
              "    <tr>\n",
              "      <th>남양유업</th>\n",
              "      <td>0.90</td>\n",
              "      <td>0.875</td>\n",
              "      <td>0.875</td>\n",
              "    </tr>\n",
              "  </tbody>\n",
              "</table>\n",
              "</div>"
            ],
            "text/plain": [
              "            0      1      2\n",
              "Name                       \n",
              "GS글로벌    0.65  0.775  0.775\n",
              "갤럭시아에스엠  1.00  0.650  0.650\n",
              "까뮤이앤씨    0.65  1.000  1.000\n",
              "남양유업     0.90  0.875  0.875"
            ]
          },
          "metadata": {
            "tags": []
          },
          "execution_count": 147
        }
      ]
    },
    {
      "cell_type": "code",
      "metadata": {
        "id": "lUP1NsOyVrGQ",
        "colab_type": "code",
        "outputId": "51b89f3b-01d2-4857-e9a2-1d963064fa92",
        "colab": {
          "base_uri": "https://localhost:8080/",
          "height": 364
        }
      },
      "source": [
        "def get_prc_db(ticker, strt_dt = '2019'):\n",
        "  tmp_df = fdr.DataReader(ticker, '2019')\n",
        "  tmp_df['ITM_NO'] = ticker\n",
        "  return tmp_df\n",
        "\n",
        "eval_df = pd.DataFrame()\n",
        "for ticker_nm in stk_tickers[:20]:\n",
        "  try:\n",
        "    eval_df = eval_df.append(get_prc_db(ticker_nm))\n",
        "    print(ticker_nm + '_불러오기_완료')\n",
        "  except:\n",
        "    print(ticker_nm + '_불러오기_실패')"
      ],
      "execution_count": 148,
      "outputs": [
        {
          "output_type": "stream",
          "text": [
            "155660_불러오기_완료\n",
            "001250_불러오기_완료\n",
            "082740_불러오기_완료\n",
            "001390_불러오기_완료\n",
            "011070_불러오기_완료\n",
            "010060_불러오기_완료\n",
            "001740_불러오기_완료\n",
            "096770_불러오기_완료\n",
            "011810_불러오기_완료\n",
            "024070_불러오기_완료\n",
            "011420_불러오기_완료\n",
            "267290_불러오기_완료\n",
            "012320_불러오기_완료\n",
            "010130_불러오기_완료\n",
            "002240_불러오기_완료\n",
            "014530_불러오기_완료\n",
            "013700_불러오기_완료\n",
            "003920_불러오기_완료\n",
            "090350_불러오기_완료\n",
            "014160_불러오기_완료\n"
          ],
          "name": "stdout"
        }
      ]
    },
    {
      "cell_type": "code",
      "metadata": {
        "id": "1V6i5MywYDxv",
        "colab_type": "code",
        "outputId": "77e5aae1-d3f3-4eff-db73-670a78248a3c",
        "colab": {
          "base_uri": "https://localhost:8080/",
          "height": 233
        }
      },
      "source": [
        "eval_df.tail()"
      ],
      "execution_count": 149,
      "outputs": [
        {
          "output_type": "execute_result",
          "data": {
            "text/html": [
              "<div>\n",
              "<style scoped>\n",
              "    .dataframe tbody tr th:only-of-type {\n",
              "        vertical-align: middle;\n",
              "    }\n",
              "\n",
              "    .dataframe tbody tr th {\n",
              "        vertical-align: top;\n",
              "    }\n",
              "\n",
              "    .dataframe thead th {\n",
              "        text-align: right;\n",
              "    }\n",
              "</style>\n",
              "<table border=\"1\" class=\"dataframe\">\n",
              "  <thead>\n",
              "    <tr style=\"text-align: right;\">\n",
              "      <th></th>\n",
              "      <th>Open</th>\n",
              "      <th>High</th>\n",
              "      <th>Low</th>\n",
              "      <th>Close</th>\n",
              "      <th>Volume</th>\n",
              "      <th>Change</th>\n",
              "      <th>ITM_NO</th>\n",
              "    </tr>\n",
              "    <tr>\n",
              "      <th>Date</th>\n",
              "      <th></th>\n",
              "      <th></th>\n",
              "      <th></th>\n",
              "      <th></th>\n",
              "      <th></th>\n",
              "      <th></th>\n",
              "      <th></th>\n",
              "    </tr>\n",
              "  </thead>\n",
              "  <tbody>\n",
              "    <tr>\n",
              "      <th>2019-09-10</th>\n",
              "      <td>1175</td>\n",
              "      <td>1245</td>\n",
              "      <td>1175</td>\n",
              "      <td>1200</td>\n",
              "      <td>4833257</td>\n",
              "      <td>0.016949</td>\n",
              "      <td>014160</td>\n",
              "    </tr>\n",
              "    <tr>\n",
              "      <th>2019-09-11</th>\n",
              "      <td>1215</td>\n",
              "      <td>1215</td>\n",
              "      <td>1195</td>\n",
              "      <td>1210</td>\n",
              "      <td>866133</td>\n",
              "      <td>0.008333</td>\n",
              "      <td>014160</td>\n",
              "    </tr>\n",
              "    <tr>\n",
              "      <th>2019-09-16</th>\n",
              "      <td>1210</td>\n",
              "      <td>1210</td>\n",
              "      <td>1190</td>\n",
              "      <td>1205</td>\n",
              "      <td>981140</td>\n",
              "      <td>-0.004132</td>\n",
              "      <td>014160</td>\n",
              "    </tr>\n",
              "    <tr>\n",
              "      <th>2019-09-17</th>\n",
              "      <td>1200</td>\n",
              "      <td>1215</td>\n",
              "      <td>1185</td>\n",
              "      <td>1210</td>\n",
              "      <td>1191970</td>\n",
              "      <td>0.004149</td>\n",
              "      <td>014160</td>\n",
              "    </tr>\n",
              "    <tr>\n",
              "      <th>2019-09-18</th>\n",
              "      <td>1205</td>\n",
              "      <td>1225</td>\n",
              "      <td>1200</td>\n",
              "      <td>1220</td>\n",
              "      <td>1148559</td>\n",
              "      <td>0.008264</td>\n",
              "      <td>014160</td>\n",
              "    </tr>\n",
              "  </tbody>\n",
              "</table>\n",
              "</div>"
            ],
            "text/plain": [
              "            Open  High   Low  Close   Volume    Change  ITM_NO\n",
              "Date                                                          \n",
              "2019-09-10  1175  1245  1175   1200  4833257  0.016949  014160\n",
              "2019-09-11  1215  1215  1195   1210   866133  0.008333  014160\n",
              "2019-09-16  1210  1210  1190   1205   981140 -0.004132  014160\n",
              "2019-09-17  1200  1215  1185   1210  1191970  0.004149  014160\n",
              "2019-09-18  1205  1225  1200   1220  1148559  0.008264  014160"
            ]
          },
          "metadata": {
            "tags": []
          },
          "execution_count": 149
        }
      ]
    },
    {
      "cell_type": "code",
      "metadata": {
        "id": "jvwPAVO7Yl9l",
        "colab_type": "code",
        "colab": {}
      },
      "source": [
        "eval_dataset = make_dataset(eval_df[eval_df['ITM_NO']=='014160'])"
      ],
      "execution_count": 0,
      "outputs": []
    },
    {
      "cell_type": "code",
      "metadata": {
        "id": "Pasc9f50a5_E",
        "colab_type": "code",
        "outputId": "01d47456-4bf3-4568-a972-02b4bbe00911",
        "colab": {
          "base_uri": "https://localhost:8080/",
          "height": 233
        }
      },
      "source": [
        "eval_dataset.tail()"
      ],
      "execution_count": 151,
      "outputs": [
        {
          "output_type": "execute_result",
          "data": {
            "text/html": [
              "<div>\n",
              "<style scoped>\n",
              "    .dataframe tbody tr th:only-of-type {\n",
              "        vertical-align: middle;\n",
              "    }\n",
              "\n",
              "    .dataframe tbody tr th {\n",
              "        vertical-align: top;\n",
              "    }\n",
              "\n",
              "    .dataframe thead th {\n",
              "        text-align: right;\n",
              "    }\n",
              "</style>\n",
              "<table border=\"1\" class=\"dataframe\">\n",
              "  <thead>\n",
              "    <tr style=\"text-align: right;\">\n",
              "      <th></th>\n",
              "      <th>Close</th>\n",
              "      <th>Volume</th>\n",
              "      <th>Close_Lag5</th>\n",
              "      <th>Close_Lag5_Change</th>\n",
              "      <th>Volume_Lag5</th>\n",
              "      <th>Volume_Lag5_Change</th>\n",
              "      <th>Close_Direction</th>\n",
              "      <th>Volume_Direction</th>\n",
              "    </tr>\n",
              "    <tr>\n",
              "      <th>Date</th>\n",
              "      <th></th>\n",
              "      <th></th>\n",
              "      <th></th>\n",
              "      <th></th>\n",
              "      <th></th>\n",
              "      <th></th>\n",
              "      <th></th>\n",
              "      <th></th>\n",
              "    </tr>\n",
              "  </thead>\n",
              "  <tbody>\n",
              "    <tr>\n",
              "      <th>2019-09-10</th>\n",
              "      <td>1200</td>\n",
              "      <td>4833257</td>\n",
              "      <td>1200.0</td>\n",
              "      <td>0.000000</td>\n",
              "      <td>996264.0</td>\n",
              "      <td>6.371638</td>\n",
              "      <td>0.0</td>\n",
              "      <td>1.0</td>\n",
              "    </tr>\n",
              "    <tr>\n",
              "      <th>2019-09-11</th>\n",
              "      <td>1210</td>\n",
              "      <td>866133</td>\n",
              "      <td>1195.0</td>\n",
              "      <td>-0.416667</td>\n",
              "      <td>537059.0</td>\n",
              "      <td>-46.092702</td>\n",
              "      <td>-1.0</td>\n",
              "      <td>-1.0</td>\n",
              "    </tr>\n",
              "    <tr>\n",
              "      <th>2019-09-16</th>\n",
              "      <td>1205</td>\n",
              "      <td>981140</td>\n",
              "      <td>1190.0</td>\n",
              "      <td>-0.418410</td>\n",
              "      <td>919387.0</td>\n",
              "      <td>71.189199</td>\n",
              "      <td>-1.0</td>\n",
              "      <td>1.0</td>\n",
              "    </tr>\n",
              "    <tr>\n",
              "      <th>2019-09-17</th>\n",
              "      <td>1210</td>\n",
              "      <td>1191970</td>\n",
              "      <td>1215.0</td>\n",
              "      <td>2.100840</td>\n",
              "      <td>2154699.0</td>\n",
              "      <td>134.362570</td>\n",
              "      <td>1.0</td>\n",
              "      <td>1.0</td>\n",
              "    </tr>\n",
              "    <tr>\n",
              "      <th>2019-09-18</th>\n",
              "      <td>1220</td>\n",
              "      <td>1148559</td>\n",
              "      <td>1180.0</td>\n",
              "      <td>-2.880658</td>\n",
              "      <td>2217862.0</td>\n",
              "      <td>2.931407</td>\n",
              "      <td>-1.0</td>\n",
              "      <td>1.0</td>\n",
              "    </tr>\n",
              "  </tbody>\n",
              "</table>\n",
              "</div>"
            ],
            "text/plain": [
              "            Close   Volume  ...  Close_Direction  Volume_Direction\n",
              "Date                        ...                                   \n",
              "2019-09-10   1200  4833257  ...              0.0               1.0\n",
              "2019-09-11   1210   866133  ...             -1.0              -1.0\n",
              "2019-09-16   1205   981140  ...             -1.0               1.0\n",
              "2019-09-17   1210  1191970  ...              1.0               1.0\n",
              "2019-09-18   1220  1148559  ...             -1.0               1.0\n",
              "\n",
              "[5 rows x 8 columns]"
            ]
          },
          "metadata": {
            "tags": []
          },
          "execution_count": 151
        }
      ]
    },
    {
      "cell_type": "code",
      "metadata": {
        "id": "irB-sJZfgazP",
        "colab_type": "code",
        "outputId": "bbe4a641-c75f-426e-a0e0-effb6633cd92",
        "colab": {
          "base_uri": "https://localhost:8080/",
          "height": 191
        }
      },
      "source": [
        "lr_classifier.predict(eval_dataset[['Close_Lag5','Volume_Lag5']])"
      ],
      "execution_count": 152,
      "outputs": [
        {
          "output_type": "execute_result",
          "data": {
            "text/plain": [
              "array([1., 1., 1., 1., 1., 1., 1., 1., 1., 1., 1., 1., 1., 1., 1., 1., 1.,\n",
              "       1., 1., 1., 1., 1., 1., 1., 1., 1., 1., 1., 1., 1., 1., 1., 1., 1.,\n",
              "       1., 1., 1., 1., 1., 1., 1., 1., 1., 1., 1., 1., 1., 1., 1., 1., 1.,\n",
              "       1., 1., 1., 1., 1., 1., 1., 1., 1., 1., 1., 1., 1., 1., 1., 1., 1.,\n",
              "       1., 1., 1., 1., 1., 1., 1., 1., 1., 1., 1., 1., 1., 1., 1., 1., 1.,\n",
              "       1., 1., 1., 1., 1., 1., 1., 1., 1., 1., 1., 1., 1., 1., 1., 1., 1.,\n",
              "       1., 1., 1., 1., 1., 1., 1., 1., 1., 1., 1., 1., 1., 1., 1., 1., 1.,\n",
              "       1., 1., 1., 1., 1., 1., 1., 1., 1., 1., 1., 1., 1., 1., 1., 1., 1.,\n",
              "       1., 1., 1., 1., 1., 1., 1., 1., 1., 1., 1., 1., 1., 1., 1., 1., 1.,\n",
              "       1., 1., 1., 1., 1., 1., 1., 1., 1., 1., 1., 1., 1., 1., 1., 1., 1.])"
            ]
          },
          "metadata": {
            "tags": []
          },
          "execution_count": 152
        }
      ]
    },
    {
      "cell_type": "code",
      "metadata": {
        "id": "1UfJQJyJeiec",
        "colab_type": "code",
        "outputId": "0a5b9cfc-0f18-4e12-a976-f95f8fc69852",
        "colab": {
          "base_uri": "https://localhost:8080/",
          "height": 34
        }
      },
      "source": [
        "(lr_classifier.predict(eval_dataset[['Close_Lag5','Volume_Lag5']]) == eval_dataset['Close_Direction']).sum() / len(eval_dataset['Close_Direction'])"
      ],
      "execution_count": 0,
      "outputs": [
        {
          "output_type": "execute_result",
          "data": {
            "text/plain": [
              "0.47058823529411764"
            ]
          },
          "metadata": {
            "tags": []
          },
          "execution_count": 106
        }
      ]
    },
    {
      "cell_type": "code",
      "metadata": {
        "id": "3Pc6QQyDemWG",
        "colab_type": "code",
        "outputId": "b85e34e5-9db6-498e-b21f-cee30fe6f8cc",
        "colab": {
          "base_uri": "https://localhost:8080/",
          "height": 260
        }
      },
      "source": [
        "rf_classifier.predict(eval_dataset[['Close_Lag5','Volume_Lag5']]) "
      ],
      "execution_count": 153,
      "outputs": [
        {
          "output_type": "execute_result",
          "data": {
            "text/plain": [
              "array([ 0.,  1.,  1., -1., -1.,  0., -1.,  1., -1.,  1.,  1.,  1.,  1.,\n",
              "        1., -1., -1.,  1.,  1., -1.,  0., -1.,  1., -1.,  1.,  1.,  1.,\n",
              "        1., -1., -1., -1., -1.,  1., -1., -1.,  0., -1.,  1., -1.,  1.,\n",
              "        0.,  1., -1.,  1.,  1., -1., -1.,  1., -1.,  0.,  1.,  1.,  1.,\n",
              "       -1., -1.,  1., -1.,  1.,  1.,  1., -1.,  1.,  1., -1., -1., -1.,\n",
              "       -1.,  1.,  1., -1.,  1.,  1., -1.,  1., -1.,  1., -1., -1.,  1.,\n",
              "        1.,  1.,  1.,  1.,  1.,  1.,  1.,  1., -1., -1.,  1.,  1.,  1.,\n",
              "        1., -1.,  1.,  1.,  1., -1., -1.,  1.,  1.,  0.,  1., -1., -1.,\n",
              "       -1., -1., -1., -1., -1.,  1., -1.,  1., -1., -1., -1., -1., -1.,\n",
              "       -1.,  1., -1., -1., -1., -1.,  1., -1., -1., -1., -1.,  1., -1.,\n",
              "       -1.,  1.,  1.,  1., -1., -1.,  1., -1.,  1.,  1.,  1., -1.,  1.,\n",
              "       -1.,  1.,  1.,  1.,  1., -1., -1.,  1., -1., -1.,  1.,  1.,  1.,\n",
              "        1.,  1.,  1.,  1.,  1., -1., -1., -1.,  1.,  1.,  1.,  1., -1.,\n",
              "       -1.])"
            ]
          },
          "metadata": {
            "tags": []
          },
          "execution_count": 153
        }
      ]
    },
    {
      "cell_type": "code",
      "metadata": {
        "id": "E2HOxBAHZUPu",
        "colab_type": "code",
        "outputId": "f2bbdd99-2feb-4eda-9486-e4abdec20ab1",
        "colab": {
          "base_uri": "https://localhost:8080/",
          "height": 255
        }
      },
      "source": [
        "svm_classifier.predict(eval_dataset[['Close_Lag5','Volume_Lag5']]) "
      ],
      "execution_count": 0,
      "outputs": [
        {
          "output_type": "execute_result",
          "data": {
            "text/plain": [
              "array([ 0.,  1.,  1., -1., -1.,  0., -1.,  1., -1.,  1.,  1.,  1.,  1.,\n",
              "        1., -1., -1.,  1.,  1., -1.,  0., -1.,  1., -1.,  1.,  1.,  1.,\n",
              "        1., -1., -1., -1., -1.,  1., -1., -1.,  0., -1.,  1., -1.,  1.,\n",
              "        0.,  1., -1.,  1.,  1., -1., -1.,  1., -1.,  0.,  1.,  1.,  1.,\n",
              "       -1., -1.,  1., -1.,  1.,  1.,  1., -1.,  1.,  1., -1., -1., -1.,\n",
              "        1.,  1.,  1.,  1.,  1.,  1.,  1.,  1.,  1.,  1.,  1.,  1.,  1.,\n",
              "        1.,  1.,  1.,  1.,  1.,  1.,  1.,  1.,  1.,  1.,  1.,  1.,  1.,\n",
              "        1.,  1.,  1.,  1.,  1.,  1.,  1.,  1.,  1.,  1.,  1.,  1.,  1.,\n",
              "        1.,  1.,  1.,  1.,  1.,  1.,  1.,  1.,  1.,  1.,  1.,  1.,  1.,\n",
              "        1.,  1.,  1.,  1.,  1.,  1.,  1.,  1.,  1.,  1.,  1.,  1.,  1.,\n",
              "        1.,  1.,  1.,  1.,  1.,  1.,  1.,  1.,  1.,  1.,  1.,  1.,  1.,\n",
              "        1.,  1.,  1.,  1.,  1.,  1.,  1.,  1.,  1.,  1.,  1.,  1.,  1.,\n",
              "        1.,  1.,  1.,  1.,  1.,  1.,  1.,  1.,  1.,  1.,  1.,  1.,  1.,\n",
              "        1.])"
            ]
          },
          "metadata": {
            "tags": []
          },
          "execution_count": 92
        }
      ]
    },
    {
      "cell_type": "code",
      "metadata": {
        "id": "gND1_rNyeriu",
        "colab_type": "code",
        "outputId": "ed6032e8-10bd-452d-9e58-ea5bde132b04",
        "colab": {
          "base_uri": "https://localhost:8080/",
          "height": 34
        }
      },
      "source": [
        "lr_classifier.score(eval_dataset[['Close_Lag5','Volume_Lag5']], eval_dataset['Close_Direction'])"
      ],
      "execution_count": 0,
      "outputs": [
        {
          "output_type": "execute_result",
          "data": {
            "text/plain": [
              "0.47058823529411764"
            ]
          },
          "metadata": {
            "tags": []
          },
          "execution_count": 103
        }
      ]
    },
    {
      "cell_type": "code",
      "metadata": {
        "id": "mOoMV08Eer2H",
        "colab_type": "code",
        "outputId": "e6ab2489-b8c3-4350-c264-8fe19b57cf7a",
        "colab": {
          "base_uri": "https://localhost:8080/",
          "height": 34
        }
      },
      "source": [
        "rf_classifier.score(eval_dataset[['Close_Lag5','Volume_Lag5']], eval_dataset['Close_Direction'])"
      ],
      "execution_count": 0,
      "outputs": [
        {
          "output_type": "execute_result",
          "data": {
            "text/plain": [
              "0.6235294117647059"
            ]
          },
          "metadata": {
            "tags": []
          },
          "execution_count": 101
        }
      ]
    },
    {
      "cell_type": "code",
      "metadata": {
        "id": "VVo8PKKcbs4d",
        "colab_type": "code",
        "outputId": "93e24927-6ec0-482b-e91b-295a6f704f32",
        "colab": {
          "base_uri": "https://localhost:8080/",
          "height": 34
        }
      },
      "source": [
        "svm_classifier.score(eval_dataset[['Close_Lag5','Volume_Lag5']], eval_dataset['Close_Direction'])"
      ],
      "execution_count": 0,
      "outputs": [
        {
          "output_type": "execute_result",
          "data": {
            "text/plain": [
              "0.6705882352941176"
            ]
          },
          "metadata": {
            "tags": []
          },
          "execution_count": 94
        }
      ]
    },
    {
      "cell_type": "code",
      "metadata": {
        "id": "JIbazln3g2cq",
        "colab_type": "code",
        "colab": {}
      },
      "source": [
        ""
      ],
      "execution_count": 0,
      "outputs": []
    }
  ]
}